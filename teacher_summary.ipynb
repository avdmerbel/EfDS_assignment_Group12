{
 "cells": [
  {
   "cell_type": "markdown",
   "id": "151de1a6",
   "metadata": {},
   "source": [
    "# Teacher Summary"
   ]
  },
  {
   "cell_type": "raw",
   "id": "b2ca76fb",
   "metadata": {},
   "source": [
    "Notebook, grouped for each task it should report to the teacher the total numbers of: student assigned to the task, already submitted solutions, already evaluated solutions and pending for evaluation"
   ]
  },
  {
   "cell_type": "code",
   "execution_count": 1,
   "id": "64673b70",
   "metadata": {},
   "outputs": [],
   "source": [
    "from sqlalchemy import *\n",
    "import pandas as pd"
   ]
  },
  {
   "cell_type": "code",
   "execution_count": 2,
   "id": "d1236a16",
   "metadata": {},
   "outputs": [],
   "source": [
    "#pip install ipython-sql\n",
    "%load_ext sql\n",
    "%sql sqlite:///GradeDB.db"
   ]
  },
  {
   "cell_type": "code",
   "execution_count": 5,
   "id": "7b622c79",
   "metadata": {},
   "outputs": [],
   "source": [
    "teachersSummaryDF = pd.read_sql(\n",
    "\"\"\"SELECT \n",
    "    COUNT(students.UniversityID) AS StudentsAssigned,\n",
    "    COUNT(submissions.submissionId) AS Submitted,\n",
    "    COUNT(evaluations.evaluationId) AS Evaluated,\n",
    "    SUM(submissions.evaluationRequest = True) AS Pending\n",
    "FROM Students\n",
    "\n",
    "JOIN assignments ON students.universityId = assignments.universityId\n",
    "\n",
    "JOIN submissions ON assignments.assignmentId = submissions.assignmentId\n",
    "\n",
    "JOIN evaluations ON evaluations.submissionId = submissions.submissionId\n",
    "\n",
    "JOIN tasks ON assignments.TaskId = tasks.TaskId\n",
    "\n",
    "GROUP BY tasks.TaskId\"\"\", con = \"sqlite:///GradeDB.db\" )"
   ]
  },
  {
   "cell_type": "code",
   "execution_count": 6,
   "id": "e8f5332d",
   "metadata": {},
   "outputs": [
    {
     "data": {
      "text/html": [
       "<div>\n",
       "<style scoped>\n",
       "    .dataframe tbody tr th:only-of-type {\n",
       "        vertical-align: middle;\n",
       "    }\n",
       "\n",
       "    .dataframe tbody tr th {\n",
       "        vertical-align: top;\n",
       "    }\n",
       "\n",
       "    .dataframe thead th {\n",
       "        text-align: right;\n",
       "    }\n",
       "</style>\n",
       "<table border=\"1\" class=\"dataframe\">\n",
       "  <thead>\n",
       "    <tr style=\"text-align: right;\">\n",
       "      <th></th>\n",
       "      <th>StudentsAssigned</th>\n",
       "      <th>Submitted</th>\n",
       "      <th>Evaluated</th>\n",
       "      <th>Pending</th>\n",
       "    </tr>\n",
       "  </thead>\n",
       "  <tbody>\n",
       "    <tr>\n",
       "      <th>0</th>\n",
       "      <td>31</td>\n",
       "      <td>31</td>\n",
       "      <td>31</td>\n",
       "      <td>0</td>\n",
       "    </tr>\n",
       "    <tr>\n",
       "      <th>1</th>\n",
       "      <td>35</td>\n",
       "      <td>35</td>\n",
       "      <td>35</td>\n",
       "      <td>0</td>\n",
       "    </tr>\n",
       "    <tr>\n",
       "      <th>2</th>\n",
       "      <td>31</td>\n",
       "      <td>31</td>\n",
       "      <td>31</td>\n",
       "      <td>0</td>\n",
       "    </tr>\n",
       "  </tbody>\n",
       "</table>\n",
       "</div>"
      ],
      "text/plain": [
       "   StudentsAssigned  Submitted  Evaluated  Pending\n",
       "0                31         31         31        0\n",
       "1                35         35         35        0\n",
       "2                31         31         31        0"
      ]
     },
     "execution_count": 6,
     "metadata": {},
     "output_type": "execute_result"
    }
   ],
   "source": [
    "teachersSummaryDF"
   ]
  }
 ],
 "metadata": {
  "kernelspec": {
   "display_name": "Python 3 (ipykernel)",
   "language": "python",
   "name": "python3"
  },
  "language_info": {
   "codemirror_mode": {
    "name": "ipython",
    "version": 3
   },
   "file_extension": ".py",
   "mimetype": "text/x-python",
   "name": "python",
   "nbconvert_exporter": "python",
   "pygments_lexer": "ipython3",
   "version": "3.9.7"
  }
 },
 "nbformat": 4,
 "nbformat_minor": 5
}
