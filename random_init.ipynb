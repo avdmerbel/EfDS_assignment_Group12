{
 "cells": [
  {
   "cell_type": "markdown",
   "id": "1861cd3f",
   "metadata": {},
   "source": [
    "# Random Init"
   ]
  },
  {
   "cell_type": "raw",
   "id": "6e176645",
   "metadata": {},
   "source": [
    "Notebook which initializes the database with some (random) content. (please add enough content so the reports below make sense)"
   ]
  },
  {
   "cell_type": "markdown",
   "id": "dfd1299b",
   "metadata": {},
   "source": [
    "## SQL alchemy initialize"
   ]
  },
  {
   "cell_type": "code",
   "execution_count": 1,
   "id": "779e2b5a",
   "metadata": {},
   "outputs": [],
   "source": [
    "import sqlalchemy\n",
    "import gradedb as gdb"
   ]
  },
  {
   "cell_type": "code",
   "execution_count": 2,
   "id": "dd617f0c",
   "metadata": {},
   "outputs": [],
   "source": [
    "from sqlalchemy import create_engine\n",
    "from sqlalchemy.orm import sessionmaker"
   ]
  },
  {
   "cell_type": "code",
   "execution_count": 3,
   "id": "af2bf4f6",
   "metadata": {},
   "outputs": [],
   "source": [
    "from random import choice, randint\n",
    "import random\n",
    "import numpy as np"
   ]
  },
  {
   "cell_type": "code",
   "execution_count": 4,
   "id": "77e66159",
   "metadata": {},
   "outputs": [],
   "source": [
    "engine = create_engine(\"sqlite:///GradeDB.db\",echo=False)\n",
    "sessionMaker = sessionmaker(bind=engine)\n",
    "Session = sessionMaker()"
   ]
  },
  {
   "cell_type": "code",
   "execution_count": 5,
   "id": "f6b6302d",
   "metadata": {},
   "outputs": [],
   "source": [
    "db = gdb.GradeDB(\"GradeDB.db\")"
   ]
  },
  {
   "cell_type": "markdown",
   "id": "507c763a",
   "metadata": {},
   "source": [
    "## Lists"
   ]
  },
  {
   "cell_type": "code",
   "execution_count": 6,
   "id": "da0bec35",
   "metadata": {},
   "outputs": [],
   "source": [
    "FirstNames = ['David', \"John\", \"Paul\", \"Mark\", \"James\", \"Andrew\", \"Scott\", \n",
    "              \"Steven\", \"Robert\", \"Stephen\", \"William\", \"Craig\", \"Michael\",\n",
    "              \"Stuart\", \"Christopher\", \"Alan\", \"Colin\", \"Brian\", \"Kevin\",\n",
    "              \"Gary\", \"Richard\", \"Derek\", \"Martin\", \"Thomas\", \"Neil\", \"Barry\",\n",
    "              \"Ian\", \"Jason\", \"Iain\", \"Gordon\", \"Alexander\", \"Graeme\", \"Peter\"]\n",
    "LastNames = [\"JOHNSON\", \"WILLIAMS\", \"BROWN\", \"JONES\", \"GARCIA\", \"MILLER\", \"DAVIS\"\n",
    "             \"RODRIGUEZ\", \"MARTINEZ\", \"HERNANDEZ\", \"LOPEZ\", \"GONZALEZ\", \"WILSON\",\n",
    "             \"ANDERSON\", \"THOMAS\", \"TAYLOR\", \"MOORE\", \"JACKSON\", \"MARTIN\", \"LEE\", \n",
    "             \"PEREZ\", \"THOMPSON\", \"WHITE\", \"HARRIS\", \"SANCHEZ\", \"CLARK\", \"RAMIREZ\"\n",
    "             \"LEWIS\", \"ROBINSON\", \"WALKER\", \"YOUNG\", \"ALLEN\", \"KING\", \"WRIGHT\", \"JANSEN\"]\n",
    "Amail = [\".cooldude\", \"_xxx\", \"gamerlord\", \".127473\", \"herro\", \"master\", \".sweety\", \"_luv_u\",\n",
    "        \".lets.go\", \".mymail\", \"uni\", \"_xXxhardcore\", \".blabla\", \"12247\", \".123\", \"17343\",\n",
    "        \"_121\", \"38568965\", \"98\", \"_97\"]\n",
    "Atmail = [\"@gmail.com\", \"@outlook.com\", \"@icloud.com\", \"@hotmail.com\", \"@yahoo.com\",\n",
    "         \"@umail.leidenuniv.nl\"]\n",
    "UniID = [914542, 474164, 872801, 23883, 490595, 402933, 853644, 678145, \n",
    "         384583, 906267, 760047, 828722, 19979, 519533, 613745, 749424, \n",
    "         282311, 38169, 706727, 560551, 799839, 744692, 16785, 163253, \n",
    "         898979, 644538, 203977, 466995, 365930, 258886, 382302, 178408, \n",
    "         456059, 371680, 514837, 329449, 531103, 6584, 699763, 354161, \n",
    "         349891, 525024, 814968, 373456, 518193, 915653, 410380, 614531, \n",
    "         285498, 173967, 336671, 884170, 791537, 994530, 913624, 915356, \n",
    "         471475, 305163, 643865, 551569, 35995, 484675, 842517, 426822, \n",
    "         288068, 767860, 839263, 408265, 32128, 125715, 944783, 110588, \n",
    "         623055, 645582, 523808, 709822, 59036, 973125, 716298, 380023, \n",
    "         968929, 699637, 339254, 623639, 198997, 614304, 252185, 76282, \n",
    "         266719, 380516, 822963, 266730, 623826, 341434, 873637, 402527, \n",
    "         986359, 124282, 660431, 554215]"
   ]
  },
  {
   "cell_type": "code",
   "execution_count": 7,
   "id": "aebfe0ba",
   "metadata": {},
   "outputs": [],
   "source": [
    "Text = [\"What's something you wish you'd figured out sooner?\", \n",
    "       \"Who are some of your heroes?\", \n",
    "       \"In your group of friends, what role do you play?\",\n",
    "       \"What is your theme song and why?\", \"Pirates or ninjas?\",\n",
    "       \"What's something you learned in the last week?\",\n",
    "       \"What's the last book you gave up on and stopped reading?\",\n",
    "       \"What's one place you've travelled that you never want to go back to?\", \n",
    "       \"What's your favorite candy?\", \n",
    "       \"What is one of the great values that guides your life?\",\n",
    "       \"Who was your favorite teacher and why?\",\n",
    "       \"What's something you wish you'd figured out later?\",\n",
    "       \"Have you ever saved someone's life?\",\n",
    "       \"What do you like most about your family?\",\n",
    "       \"What issue will you always speak your mind about?\",\n",
    "       \"Mountains or ocean?\", \n",
    "       \"What story does your family always tell about you?\"]\n",
    "Letter = [\"A\", \"B\", \"C\", \"D\", \"E\", \"F\", \"G\", \"H\", \"I\", \"J\", \"K\",\n",
    "         \"L\", \"M\", \"N\", \"O\", \"P\", \"Q\"]\n",
    "#, \"R\", \"S\", \"T\", \"U\", \"V\", \"W\", \"X\", \"Y\", \"Z\"] List was longer than questions"
   ]
  },
  {
   "cell_type": "code",
   "execution_count": 8,
   "id": "9b7d43df",
   "metadata": {},
   "outputs": [
    {
     "name": "stdout",
     "output_type": "stream",
     "text": [
      "['Question A', 'Question B', 'Question C', 'Question D', 'Question E', 'Question F', 'Question G', 'Question H', 'Question I', 'Question J', 'Question K', 'Question L', 'Question M', 'Question N', 'Question O', 'Question P', 'Question Q']\n"
     ]
    }
   ],
   "source": [
    "TaskText = [\"Questions regarding your self-image.\",\n",
    "           \"Answer the following questions concerning your personal preferences.\",\n",
    "           \"Please be honest when answering the following questions.\"]\n",
    "Question = list()\n",
    "for i in range(len(Letter)):\n",
    "    Question.append(\"Question \" + Letter[i])\n",
    "print(Question)"
   ]
  },
  {
   "cell_type": "code",
   "execution_count": 9,
   "id": "9330600c",
   "metadata": {},
   "outputs": [
    {
     "name": "stdout",
     "output_type": "stream",
     "text": [
      "['Project A', 'Project B', 'Project C']\n"
     ]
    }
   ],
   "source": [
    "Projects = list()\n",
    "for i in range(3):\n",
    "    Projects.append(\"Project \" + Letter[i])\n",
    "print(Projects)"
   ]
  },
  {
   "cell_type": "code",
   "execution_count": 10,
   "id": "3b87fd20",
   "metadata": {},
   "outputs": [],
   "source": [
    "Answers = [\"My dog ate my homework\", \"Ofcourse the answer is 42\",\n",
    "          \"I didn't have time\", \"My life is a lie\", \"Cake and eat it too\",\n",
    "          \"I like trains\", \"I never drink too much\", \"I'll study in time\",\n",
    "          \"Even if I fail this, I'll still pass the exam\", \"Please help\",\n",
    "          \"Just give me any sufficient grade for this answer\", \"Do I have to?\",\n",
    "          \"Come on man, just let me have the weekend off\", \"The answer is A\",\n",
    "          \"Because of reasons\", \"Just believe me\", \"Why not?\", \"Just becasue\",\n",
    "          \"No reason to question any of this\", \"It's always those psychologists\",\n",
    "          \"Statistics is fun\", \"Data science is a lame name\", \"SQL, more like SQLife\",\n",
    "          \"Python > SQL\", \"SQL > Python\", \"R rules\", \"SPSS is the worst\"]"
   ]
  },
  {
   "cell_type": "markdown",
   "id": "10704245",
   "metadata": {},
   "source": [
    "## Add random items"
   ]
  },
  {
   "cell_type": "code",
   "execution_count": 11,
   "id": "a4e4fec5",
   "metadata": {},
   "outputs": [],
   "source": [
    "Name = []\n",
    "Email = []\n",
    "for i in range(100):\n",
    "    Name.append(choice(FirstNames) + \" \" + choice(LastNames))\n",
    "    Email.append(choice(FirstNames) + choice(Amail) + choice(Atmail))\n",
    "Name = np.unique(Name).tolist()\n",
    "Email = np.unique(Email).tolist()\n",
    "\n",
    "n_stud = min(len(Name),len(Email))"
   ]
  },
  {
   "cell_type": "code",
   "execution_count": 12,
   "id": "98c9d1ed",
   "metadata": {},
   "outputs": [],
   "source": [
    "for i in range(n_stud):\n",
    "    Unid = UniID[i]\n",
    "    db.addStudent(name = Name[i], email = Email[i], unid = Unid )"
   ]
  },
  {
   "cell_type": "code",
   "execution_count": 13,
   "id": "06d6caac",
   "metadata": {},
   "outputs": [],
   "source": [
    "for i in range(len(Text)):\n",
    "    Title = \"Question \" + Letter[i]\n",
    "    QText = Text[i]\n",
    "    db.addQuestion( title = Title, text = QText )"
   ]
  },
  {
   "cell_type": "code",
   "execution_count": 14,
   "id": "d3b2c5eb",
   "metadata": {},
   "outputs": [],
   "source": [
    "for i in range(3):\n",
    "    Title = \"Project \" + Letter[i]\n",
    "    Text = TaskText[i]\n",
    "    Questions = list()\n",
    "    for j in range(8):\n",
    "        Questions.append(choice(Question))\n",
    "    Questions = np.unique(Questions).tolist()\n",
    "    db.addTask( title = Title, text = Text, questions = Questions)"
   ]
  },
  {
   "cell_type": "code",
   "execution_count": 15,
   "id": "2a51792a",
   "metadata": {},
   "outputs": [
    {
     "name": "stdout",
     "output_type": "stream",
     "text": [
      "Notification of new Assignment has been sent to: Alan.cooldude@yahoo.com\n",
      "Notification of new Assignment has been sent to: Alan.sweety@outlook.com\n",
      "Notification of new Assignment has been sent to: Alangamerlord@hotmail.com\n",
      "Notification of new Assignment has been sent to: Alanuni@outlook.com\n",
      "Notification of new Assignment has been sent to: Alexander.123@yahoo.com\n",
      "Notification of new Assignment has been sent to: Alexander.sweety@yahoo.com\n",
      "Notification of new Assignment has been sent to: Andrew_xxx@umail.leidenuniv.nl\n",
      "Notification of new Assignment has been sent to: Barry17343@outlook.com\n",
      "Notification of new Assignment has been sent to: Barry_xxx@icloud.com\n",
      "Notification of new Assignment has been sent to: Barrygamerlord@outlook.com\n",
      "Notification of new Assignment has been sent to: Brian98@yahoo.com\n",
      "Notification of new Assignment has been sent to: Christopher.mymail@gmail.com\n",
      "Notification of new Assignment has been sent to: Christopher17343@hotmail.com\n",
      "Notification of new Assignment has been sent to: Christopher17343@icloud.com\n",
      "Notification of new Assignment has been sent to: Christopher98@umail.leidenuniv.nl\n",
      "Notification of new Assignment has been sent to: Christopher_97@yahoo.com\n",
      "Notification of new Assignment has been sent to: Christopheruni@hotmail.com\n",
      "Notification of new Assignment has been sent to: Colin.cooldude@icloud.com\n",
      "Notification of new Assignment has been sent to: Colin12247@icloud.com\n",
      "Notification of new Assignment has been sent to: Colin_luv_u@hotmail.com\n",
      "Notification of new Assignment has been sent to: Craig12247@outlook.com\n",
      "Notification of new Assignment has been sent to: Craig_luv_u@gmail.com\n",
      "Notification of new Assignment has been sent to: Craig_xxx@icloud.com\n",
      "Notification of new Assignment has been sent to: David.127473@icloud.com\n",
      "Notification of new Assignment has been sent to: David.127473@umail.leidenuniv.nl\n",
      "Notification of new Assignment has been sent to: David.cooldude@hotmail.com\n",
      "Notification of new Assignment has been sent to: David.sweety@gmail.com\n",
      "Notification of new Assignment has been sent to: David_97@gmail.com\n",
      "Notification of new Assignment has been sent to: David_xXxhardcore@umail.leidenuniv.nl\n",
      "Notification of new Assignment has been sent to: Derek_97@outlook.com\n",
      "Notification of new Assignment has been sent to: Derekherro@umail.leidenuniv.nl\n",
      "Notification of new Assignment has been sent to: Gary.mymail@outlook.com\n",
      "Notification of new Assignment has been sent to: Gary12247@gmail.com\n",
      "Notification of new Assignment has been sent to: Gary_luv_u@umail.leidenuniv.nl\n",
      "Notification of new Assignment has been sent to: Garygamerlord@outlook.com\n",
      "Notification of new Assignment has been sent to: Gordon.123@gmail.com\n",
      "Notification of new Assignment has been sent to: Gordon.lets.go@umail.leidenuniv.nl\n",
      "Notification of new Assignment has been sent to: Gordon17343@outlook.com\n",
      "Notification of new Assignment has been sent to: Gordon98@yahoo.com\n",
      "Notification of new Assignment has been sent to: Gordon_xxx@outlook.com\n",
      "Notification of new Assignment has been sent to: Gordonherro@icloud.com\n",
      "Notification of new Assignment has been sent to: Graeme.123@gmail.com\n",
      "Notification of new Assignment has been sent to: Graememaster@gmail.com\n",
      "Notification of new Assignment has been sent to: Iain17343@gmail.com\n",
      "Notification of new Assignment has been sent to: Iain17343@outlook.com\n",
      "Notification of new Assignment has been sent to: Iain98@gmail.com\n",
      "Notification of new Assignment has been sent to: Iain_xxx@icloud.com\n",
      "Notification of new Assignment has been sent to: Ian.127473@umail.leidenuniv.nl\n",
      "Notification of new Assignment has been sent to: Ian.cooldude@gmail.com\n",
      "Notification of new Assignment has been sent to: Ian12247@yahoo.com\n",
      "Notification of new Assignment has been sent to: Ian_121@yahoo.com\n",
      "Notification of new Assignment has been sent to: Iangamerlord@gmail.com\n",
      "Notification of new Assignment has been sent to: Ianuni@umail.leidenuniv.nl\n",
      "Notification of new Assignment has been sent to: James98@umail.leidenuniv.nl\n",
      "Notification of new Assignment has been sent to: James98@yahoo.com\n",
      "Notification of new Assignment has been sent to: Jason.123@outlook.com\n",
      "Notification of new Assignment has been sent to: Jason.lets.go@hotmail.com\n",
      "Notification of new Assignment has been sent to: Jason98@hotmail.com\n",
      "Notification of new Assignment has been sent to: Jason_luv_u@outlook.com\n",
      "Notification of new Assignment has been sent to: John.lets.go@yahoo.com\n",
      "Notification of new Assignment has been sent to: John.mymail@gmail.com\n",
      "Notification of new Assignment has been sent to: John38568965@gmail.com\n",
      "Notification of new Assignment has been sent to: Kevin.mymail@gmail.com\n",
      "Notification of new Assignment has been sent to: Kevin98@gmail.com\n",
      "Notification of new Assignment has been sent to: Mark.127473@outlook.com\n",
      "Notification of new Assignment has been sent to: Mark_97@yahoo.com\n",
      "Notification of new Assignment has been sent to: Martin_xxx@yahoo.com\n",
      "Notification of new Assignment has been sent to: Michael.cooldude@yahoo.com\n",
      "Notification of new Assignment has been sent to: Michael_121@gmail.com\n",
      "Notification of new Assignment has been sent to: Neil.127473@umail.leidenuniv.nl\n",
      "Notification of new Assignment has been sent to: Neilherro@outlook.com\n",
      "Notification of new Assignment has been sent to: Neilmaster@outlook.com\n",
      "Notification of new Assignment has been sent to: Paul.123@hotmail.com\n",
      "Notification of new Assignment has been sent to: Paul.lets.go@hotmail.com\n",
      "Notification of new Assignment has been sent to: Paul_97@yahoo.com\n",
      "Notification of new Assignment has been sent to: Peter12247@umail.leidenuniv.nl\n",
      "Notification of new Assignment has been sent to: Peter38568965@outlook.com\n",
      "Notification of new Assignment has been sent to: Peter_xXxhardcore@gmail.com\n",
      "Notification of new Assignment has been sent to: Peter_xXxhardcore@umail.leidenuniv.nl\n",
      "Notification of new Assignment has been sent to: Petermaster@gmail.com\n",
      "Notification of new Assignment has been sent to: Richard.127473@gmail.com\n",
      "Notification of new Assignment has been sent to: Richard.blabla@outlook.com\n",
      "Notification of new Assignment has been sent to: Richard.lets.go@icloud.com\n",
      "Notification of new Assignment has been sent to: Robert.mymail@outlook.com\n",
      "Notification of new Assignment has been sent to: Robert_97@gmail.com\n",
      "Notification of new Assignment has been sent to: Robert_xxx@gmail.com\n",
      "Notification of new Assignment has been sent to: Robert_xxx@umail.leidenuniv.nl\n",
      "Notification of new Assignment has been sent to: Scott38568965@hotmail.com\n",
      "Notification of new Assignment has been sent to: Scottmaster@hotmail.com\n",
      "Notification of new Assignment has been sent to: Stephen.123@umail.leidenuniv.nl\n",
      "Notification of new Assignment has been sent to: Stephen.127473@hotmail.com\n",
      "Notification of new Assignment has been sent to: Stephen.sweety@icloud.com\n",
      "Notification of new Assignment has been sent to: Stephengamerlord@umail.leidenuniv.nl\n",
      "Notification of new Assignment has been sent to: Steven.127473@gmail.com\n"
     ]
    }
   ],
   "source": [
    "for i in range(n_stud):\n",
    "    Studentid = UniID[i]\n",
    "    Taskx = choice(Projects)\n",
    "    db.addAssignment( student = Studentid, task = Taskx )"
   ]
  },
  {
   "cell_type": "code",
   "execution_count": 16,
   "id": "bafa2545",
   "metadata": {},
   "outputs": [],
   "source": [
    "for i in range(n_stud):\n",
    "    Studentid = UniID[i]\n",
    "    db.newSubmission( student = Studentid )"
   ]
  },
  {
   "cell_type": "code",
   "execution_count": 17,
   "id": "98357d27",
   "metadata": {},
   "outputs": [],
   "source": [
    "for i in range(n_stud):\n",
    "    Studentid = UniID[i]\n",
    "    asm = Session.query(gdb.Assignment).filter(gdb.Assignment.UniversityID == Studentid).one()\n",
    "    t = Session.query(gdb.Task).filter(gdb.Task.TaskID == asm.TaskID).one()\n",
    "    q = t.Questions\n",
    "    for j in range(len(q)):\n",
    "        Ans = choice(Answers)\n",
    "        db.addAnswer( student = Studentid, answer = Ans, question = q[j].QuestionID)"
   ]
  },
  {
   "cell_type": "code",
   "execution_count": 18,
   "id": "430b7a05",
   "metadata": {},
   "outputs": [
    {
     "name": "stdout",
     "output_type": "stream",
     "text": [
      "An email will now be sent to the teacher who has to grade submission1\n",
      "An email will now be sent to the teacher who has to grade submission2\n",
      "An email will now be sent to the teacher who has to grade submission3\n",
      "An email will now be sent to the teacher who has to grade submission4\n",
      "An email will now be sent to the teacher who has to grade submission5\n",
      "An email will now be sent to the teacher who has to grade submission6\n",
      "An email will now be sent to the teacher who has to grade submission7\n",
      "An email will now be sent to the teacher who has to grade submission8\n",
      "An email will now be sent to the teacher who has to grade submission9\n",
      "An email will now be sent to the teacher who has to grade submission10\n",
      "An email will now be sent to the teacher who has to grade submission11\n",
      "An email will now be sent to the teacher who has to grade submission12\n",
      "An email will now be sent to the teacher who has to grade submission13\n",
      "An email will now be sent to the teacher who has to grade submission14\n",
      "An email will now be sent to the teacher who has to grade submission15\n",
      "An email will now be sent to the teacher who has to grade submission16\n",
      "An email will now be sent to the teacher who has to grade submission17\n",
      "An email will now be sent to the teacher who has to grade submission18\n",
      "An email will now be sent to the teacher who has to grade submission19\n",
      "An email will now be sent to the teacher who has to grade submission20\n",
      "An email will now be sent to the teacher who has to grade submission21\n",
      "An email will now be sent to the teacher who has to grade submission22\n",
      "An email will now be sent to the teacher who has to grade submission23\n",
      "An email will now be sent to the teacher who has to grade submission24\n",
      "An email will now be sent to the teacher who has to grade submission25\n",
      "An email will now be sent to the teacher who has to grade submission26\n",
      "An email will now be sent to the teacher who has to grade submission27\n",
      "An email will now be sent to the teacher who has to grade submission28\n",
      "An email will now be sent to the teacher who has to grade submission29\n",
      "An email will now be sent to the teacher who has to grade submission30\n",
      "An email will now be sent to the teacher who has to grade submission31\n",
      "An email will now be sent to the teacher who has to grade submission32\n",
      "An email will now be sent to the teacher who has to grade submission33\n",
      "An email will now be sent to the teacher who has to grade submission34\n",
      "An email will now be sent to the teacher who has to grade submission35\n",
      "An email will now be sent to the teacher who has to grade submission36\n",
      "An email will now be sent to the teacher who has to grade submission37\n",
      "An email will now be sent to the teacher who has to grade submission38\n",
      "An email will now be sent to the teacher who has to grade submission39\n",
      "An email will now be sent to the teacher who has to grade submission40\n",
      "An email will now be sent to the teacher who has to grade submission41\n",
      "An email will now be sent to the teacher who has to grade submission42\n",
      "An email will now be sent to the teacher who has to grade submission43\n",
      "An email will now be sent to the teacher who has to grade submission44\n",
      "An email will now be sent to the teacher who has to grade submission45\n",
      "An email will now be sent to the teacher who has to grade submission46\n",
      "An email will now be sent to the teacher who has to grade submission47\n",
      "An email will now be sent to the teacher who has to grade submission48\n",
      "An email will now be sent to the teacher who has to grade submission49\n",
      "An email will now be sent to the teacher who has to grade submission50\n",
      "An email will now be sent to the teacher who has to grade submission51\n",
      "An email will now be sent to the teacher who has to grade submission52\n",
      "An email will now be sent to the teacher who has to grade submission53\n",
      "An email will now be sent to the teacher who has to grade submission54\n",
      "An email will now be sent to the teacher who has to grade submission55\n",
      "An email will now be sent to the teacher who has to grade submission56\n",
      "An email will now be sent to the teacher who has to grade submission57\n",
      "An email will now be sent to the teacher who has to grade submission58\n",
      "An email will now be sent to the teacher who has to grade submission59\n",
      "An email will now be sent to the teacher who has to grade submission60\n",
      "An email will now be sent to the teacher who has to grade submission61\n",
      "An email will now be sent to the teacher who has to grade submission62\n",
      "An email will now be sent to the teacher who has to grade submission63\n",
      "An email will now be sent to the teacher who has to grade submission64\n",
      "An email will now be sent to the teacher who has to grade submission65\n",
      "An email will now be sent to the teacher who has to grade submission66\n",
      "An email will now be sent to the teacher who has to grade submission67\n",
      "An email will now be sent to the teacher who has to grade submission68\n",
      "An email will now be sent to the teacher who has to grade submission69\n",
      "An email will now be sent to the teacher who has to grade submission70\n",
      "An email will now be sent to the teacher who has to grade submission71\n",
      "An email will now be sent to the teacher who has to grade submission72\n",
      "An email will now be sent to the teacher who has to grade submission73\n",
      "An email will now be sent to the teacher who has to grade submission74\n",
      "An email will now be sent to the teacher who has to grade submission75\n",
      "An email will now be sent to the teacher who has to grade submission76\n",
      "An email will now be sent to the teacher who has to grade submission77\n",
      "An email will now be sent to the teacher who has to grade submission78\n",
      "An email will now be sent to the teacher who has to grade submission79\n",
      "An email will now be sent to the teacher who has to grade submission80\n",
      "An email will now be sent to the teacher who has to grade submission81\n",
      "An email will now be sent to the teacher who has to grade submission82\n",
      "An email will now be sent to the teacher who has to grade submission83\n",
      "An email will now be sent to the teacher who has to grade submission84\n",
      "An email will now be sent to the teacher who has to grade submission85\n",
      "An email will now be sent to the teacher who has to grade submission86\n",
      "An email will now be sent to the teacher who has to grade submission87\n",
      "An email will now be sent to the teacher who has to grade submission88\n",
      "An email will now be sent to the teacher who has to grade submission89\n",
      "An email will now be sent to the teacher who has to grade submission90\n",
      "An email will now be sent to the teacher who has to grade submission91\n",
      "An email will now be sent to the teacher who has to grade submission92\n",
      "An email will now be sent to the teacher who has to grade submission93\n",
      "An email will now be sent to the teacher who has to grade submission94\n"
     ]
    }
   ],
   "source": [
    "for i in range(n_stud):\n",
    "    Studentid = UniID[i]\n",
    "    asm = Session.query(gdb.Assignment).filter(gdb.Assignment.UniversityID == Studentid).one()\n",
    "    sub = Session.query(gdb.Submission).filter(gdb.Submission.AssignmentID == asm.AssignmentID).order_by(gdb.Submission.SubmissionTime).one()\n",
    "    db.commitSubmission( sub.SubmissionID )"
   ]
  },
  {
   "cell_type": "code",
   "execution_count": 19,
   "id": "55a36231",
   "metadata": {},
   "outputs": [],
   "source": [
    "for i in range(n_stud):\n",
    "    Studentid = UniID[i]\n",
    "    asm = Session.query(gdb.Assignment).filter(gdb.Assignment.UniversityID == Studentid).one()\n",
    "    sub = Session.query(gdb.Submission).filter(gdb.Submission.AssignmentID == asm.AssignmentID).filter(gdb.Submission.EvaluationRequest == True).one()\n",
    "    db.newEvaluation( submission = sub.SubmissionID )"
   ]
  },
  {
   "cell_type": "code",
   "execution_count": 20,
   "id": "a85bb2e4",
   "metadata": {},
   "outputs": [],
   "source": [
    "for i in range(n_stud):\n",
    "    Studentid = UniID[i]\n",
    "    asm = Session.query(gdb.Assignment).filter(gdb.Assignment.UniversityID == Studentid).one()\n",
    "    sub = Session.query(gdb.Submission).filter(gdb.Submission.AssignmentID == asm.AssignmentID).one()\n",
    "    eva = Session.query(gdb.Evaluation).filter(gdb.Evaluation.SubmissionID == sub.SubmissionID).filter(gdb.Evaluation.EvaluationFinished == False).one()\n",
    "    Ans = Session.query(gdb.Answer).filter(gdb.Answer.SubmissionID == sub.SubmissionID).all()\n",
    "    for i in range(len(Ans)):\n",
    "        grade = random.randint(10,100)/10\n",
    "        db.addScore( value = grade, answer = Ans[i].AnswerID, evaluation = eva.EvaluationID )"
   ]
  },
  {
   "cell_type": "code",
   "execution_count": 21,
   "id": "b30cb7d2",
   "metadata": {},
   "outputs": [
    {
     "name": "stdout",
     "output_type": "stream",
     "text": [
      "Sent an email to address: Alan.cooldude@yahoo.com. The average grade of the assignment was: 6.7\n",
      "Sent an email to address: Alan.sweety@outlook.com. The average grade of the assignment was: 5.0\n",
      "Sent an email to address: Alangamerlord@hotmail.com. The average grade of the assignment was: 4.8\n",
      "Sent an email to address: Alanuni@outlook.com. The average grade of the assignment was: 4.6\n",
      "Sent an email to address: Alexander.123@yahoo.com. The average grade of the assignment was: 5.1\n",
      "Sent an email to address: Alexander.sweety@yahoo.com. The average grade of the assignment was: 6.2\n",
      "Sent an email to address: Andrew_xxx@umail.leidenuniv.nl. The average grade of the assignment was: 7.0\n",
      "Sent an email to address: Barry17343@outlook.com. The average grade of the assignment was: 5.3\n",
      "Sent an email to address: Barry_xxx@icloud.com. The average grade of the assignment was: 6.6\n",
      "Sent an email to address: Barrygamerlord@outlook.com. The average grade of the assignment was: 4.5\n",
      "Sent an email to address: Brian98@yahoo.com. The average grade of the assignment was: 4.6\n",
      "Sent an email to address: Christopher.mymail@gmail.com. The average grade of the assignment was: 5.5\n",
      "Sent an email to address: Christopher17343@hotmail.com. The average grade of the assignment was: 4.0\n",
      "Sent an email to address: Christopher17343@icloud.com. The average grade of the assignment was: 6.5\n",
      "Sent an email to address: Christopher98@umail.leidenuniv.nl. The average grade of the assignment was: 5.3\n",
      "Sent an email to address: Christopher_97@yahoo.com. The average grade of the assignment was: 6.2\n",
      "Sent an email to address: Christopheruni@hotmail.com. The average grade of the assignment was: 4.6\n",
      "Sent an email to address: Colin.cooldude@icloud.com. The average grade of the assignment was: 3.2\n",
      "Sent an email to address: Colin12247@icloud.com. The average grade of the assignment was: 6.5\n",
      "Sent an email to address: Colin_luv_u@hotmail.com. The average grade of the assignment was: 6.9\n",
      "Sent an email to address: Craig12247@outlook.com. The average grade of the assignment was: 6.6\n",
      "Sent an email to address: Craig_luv_u@gmail.com. The average grade of the assignment was: 6.3\n",
      "Sent an email to address: Craig_xxx@icloud.com. The average grade of the assignment was: 5.1\n",
      "Sent an email to address: David.127473@icloud.com. The average grade of the assignment was: 8.2\n",
      "Sent an email to address: David.127473@umail.leidenuniv.nl. The average grade of the assignment was: 5.8\n",
      "Sent an email to address: David.cooldude@hotmail.com. The average grade of the assignment was: 5.3\n",
      "Sent an email to address: David.sweety@gmail.com. The average grade of the assignment was: 4.6\n",
      "Sent an email to address: David_97@gmail.com. The average grade of the assignment was: 8.3\n",
      "Sent an email to address: David_xXxhardcore@umail.leidenuniv.nl. The average grade of the assignment was: 4.6\n",
      "Sent an email to address: Derek_97@outlook.com. The average grade of the assignment was: 5.6\n",
      "Sent an email to address: Derekherro@umail.leidenuniv.nl. The average grade of the assignment was: 6.5\n",
      "Sent an email to address: Gary.mymail@outlook.com. The average grade of the assignment was: 6.2\n",
      "Sent an email to address: Gary12247@gmail.com. The average grade of the assignment was: 6.8\n",
      "Sent an email to address: Gary_luv_u@umail.leidenuniv.nl. The average grade of the assignment was: 4.1\n",
      "Sent an email to address: Garygamerlord@outlook.com. The average grade of the assignment was: 4.8\n",
      "Sent an email to address: Gordon.123@gmail.com. The average grade of the assignment was: 6.4\n",
      "Sent an email to address: Gordon.lets.go@umail.leidenuniv.nl. The average grade of the assignment was: 6.6\n",
      "Sent an email to address: Gordon17343@outlook.com. The average grade of the assignment was: 5.9\n",
      "Sent an email to address: Gordon98@yahoo.com. The average grade of the assignment was: 6.7\n",
      "Sent an email to address: Gordon_xxx@outlook.com. The average grade of the assignment was: 5.8\n",
      "Sent an email to address: Gordonherro@icloud.com. The average grade of the assignment was: 6.1\n",
      "Sent an email to address: Graeme.123@gmail.com. The average grade of the assignment was: 7.0\n",
      "Sent an email to address: Graememaster@gmail.com. The average grade of the assignment was: 6.8\n",
      "Sent an email to address: Iain17343@gmail.com. The average grade of the assignment was: 4.8\n",
      "Sent an email to address: Iain17343@outlook.com. The average grade of the assignment was: 4.3\n",
      "Sent an email to address: Iain98@gmail.com. The average grade of the assignment was: 3.8\n",
      "Sent an email to address: Iain_xxx@icloud.com. The average grade of the assignment was: 4.3\n",
      "Sent an email to address: Ian.127473@umail.leidenuniv.nl. The average grade of the assignment was: 6.6\n",
      "Sent an email to address: Ian.cooldude@gmail.com. The average grade of the assignment was: 5.6\n",
      "Sent an email to address: Ian12247@yahoo.com. The average grade of the assignment was: 5.7\n",
      "Sent an email to address: Ian_121@yahoo.com. The average grade of the assignment was: 3.9\n",
      "Sent an email to address: Iangamerlord@gmail.com. The average grade of the assignment was: 4.5\n",
      "Sent an email to address: Ianuni@umail.leidenuniv.nl. The average grade of the assignment was: 5.4\n",
      "Sent an email to address: James98@umail.leidenuniv.nl. The average grade of the assignment was: 6.5\n",
      "Sent an email to address: James98@yahoo.com. The average grade of the assignment was: 4.1\n",
      "Sent an email to address: Jason.123@outlook.com. The average grade of the assignment was: 5.9\n",
      "Sent an email to address: Jason.lets.go@hotmail.com. The average grade of the assignment was: 3.1\n",
      "Sent an email to address: Jason98@hotmail.com. The average grade of the assignment was: 6.4\n",
      "Sent an email to address: Jason_luv_u@outlook.com. The average grade of the assignment was: 4.9\n",
      "Sent an email to address: John.lets.go@yahoo.com. The average grade of the assignment was: 5.6\n",
      "Sent an email to address: John.mymail@gmail.com. The average grade of the assignment was: 5.4\n",
      "Sent an email to address: John38568965@gmail.com. The average grade of the assignment was: 6.6\n",
      "Sent an email to address: Kevin.mymail@gmail.com. The average grade of the assignment was: 8.0\n",
      "Sent an email to address: Kevin98@gmail.com. The average grade of the assignment was: 5.9\n",
      "Sent an email to address: Mark.127473@outlook.com. The average grade of the assignment was: 6.9\n",
      "Sent an email to address: Mark_97@yahoo.com. The average grade of the assignment was: 3.7\n",
      "Sent an email to address: Martin_xxx@yahoo.com. The average grade of the assignment was: 5.0\n",
      "Sent an email to address: Michael.cooldude@yahoo.com. The average grade of the assignment was: 6.4\n",
      "Sent an email to address: Michael_121@gmail.com. The average grade of the assignment was: 5.6\n",
      "Sent an email to address: Neil.127473@umail.leidenuniv.nl. The average grade of the assignment was: 5.9\n",
      "Sent an email to address: Neilherro@outlook.com. The average grade of the assignment was: 6.1\n",
      "Sent an email to address: Neilmaster@outlook.com. The average grade of the assignment was: 5.1\n",
      "Sent an email to address: Paul.123@hotmail.com. The average grade of the assignment was: 5.5\n",
      "Sent an email to address: Paul.lets.go@hotmail.com. The average grade of the assignment was: 6.7\n",
      "Sent an email to address: Paul_97@yahoo.com. The average grade of the assignment was: 4.3\n",
      "Sent an email to address: Peter12247@umail.leidenuniv.nl. The average grade of the assignment was: 5.0\n",
      "Sent an email to address: Peter38568965@outlook.com. The average grade of the assignment was: 6.0\n",
      "Sent an email to address: Peter_xXxhardcore@gmail.com. The average grade of the assignment was: 5.4\n",
      "Sent an email to address: Peter_xXxhardcore@umail.leidenuniv.nl. The average grade of the assignment was: 6.8\n",
      "Sent an email to address: Petermaster@gmail.com. The average grade of the assignment was: 4.8\n",
      "Sent an email to address: Richard.127473@gmail.com. The average grade of the assignment was: 5.5\n",
      "Sent an email to address: Richard.blabla@outlook.com. The average grade of the assignment was: 5.2\n",
      "Sent an email to address: Richard.lets.go@icloud.com. The average grade of the assignment was: 6.0\n",
      "Sent an email to address: Robert.mymail@outlook.com. The average grade of the assignment was: 6.6\n",
      "Sent an email to address: Robert_97@gmail.com. The average grade of the assignment was: 7.3\n",
      "Sent an email to address: Robert_xxx@gmail.com. The average grade of the assignment was: 5.7\n",
      "Sent an email to address: Robert_xxx@umail.leidenuniv.nl. The average grade of the assignment was: 5.4\n",
      "Sent an email to address: Scott38568965@hotmail.com. The average grade of the assignment was: 4.9\n",
      "Sent an email to address: Scottmaster@hotmail.com. The average grade of the assignment was: 7.1\n",
      "Sent an email to address: Stephen.123@umail.leidenuniv.nl. The average grade of the assignment was: 6.1\n",
      "Sent an email to address: Stephen.127473@hotmail.com. The average grade of the assignment was: 4.9\n",
      "Sent an email to address: Stephen.sweety@icloud.com. The average grade of the assignment was: 4.3\n",
      "Sent an email to address: Stephengamerlord@umail.leidenuniv.nl. The average grade of the assignment was: 6.5\n",
      "Sent an email to address: Steven.127473@gmail.com. The average grade of the assignment was: 6.4\n"
     ]
    }
   ],
   "source": [
    "for i in range(n_stud):\n",
    "    Studentid = UniID[i]\n",
    "    asm = Session.query(gdb.Assignment).filter(gdb.Assignment.UniversityID == Studentid).one()\n",
    "    sub = Session.query(gdb.Submission).filter(gdb.Submission.AssignmentID == asm.AssignmentID).one()\n",
    "    eva = Session.query(gdb.Evaluation).filter(gdb.Evaluation.SubmissionID == sub.SubmissionID).filter(gdb.Evaluation.EvaluationFinished == False).one()\n",
    "    db.commitEvaluation(evaluation = eva.EvaluationID)"
   ]
  }
 ],
 "metadata": {
  "kernelspec": {
   "display_name": "Python 3 (ipykernel)",
   "language": "python",
   "name": "python3"
  },
  "language_info": {
   "codemirror_mode": {
    "name": "ipython",
    "version": 3
   },
   "file_extension": ".py",
   "mimetype": "text/x-python",
   "name": "python",
   "nbconvert_exporter": "python",
   "pygments_lexer": "ipython3",
   "version": "3.9.7"
  }
 },
 "nbformat": 4,
 "nbformat_minor": 5
}
