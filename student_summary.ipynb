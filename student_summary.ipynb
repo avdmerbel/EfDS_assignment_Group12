{
 "cells": [
  {
   "cell_type": "markdown",
   "id": "f6f28ef8",
   "metadata": {},
   "source": [
    "# Student Summary"
   ]
  },
  {
   "cell_type": "raw",
   "id": "95972919",
   "metadata": {},
   "source": [
    "Notebook with one of the top cells containing an assingment like studentUniId = S123456. For the corresponding student the report should show a general summary important to the student (total grades for evaluated reports, whether submitted reports are pending for evaluation, etc.)"
   ]
  },
  {
   "cell_type": "code",
   "execution_count": 10,
   "id": "ebf2d051",
   "metadata": {},
   "outputs": [],
   "source": [
    "studentUniId = 16785"
   ]
  },
  {
   "cell_type": "code",
   "execution_count": 2,
   "id": "48511702",
   "metadata": {},
   "outputs": [],
   "source": [
    "from sqlalchemy import *\n",
    "import pandas as pd"
   ]
  },
  {
   "cell_type": "code",
   "execution_count": 16,
   "id": "d396cb5c",
   "metadata": {},
   "outputs": [
    {
     "name": "stdout",
     "output_type": "stream",
     "text": [
      "The sql extension is already loaded. To reload it, use:\n",
      "  %reload_ext sql\n"
     ]
    }
   ],
   "source": [
    "#pip install ipython-sql\n",
    "%load_ext sql\n",
    "%sql sqlite:///GradeDB.db"
   ]
  },
  {
   "cell_type": "code",
   "execution_count": 22,
   "id": "630f14c5",
   "metadata": {},
   "outputs": [],
   "source": [
    "studentsSummaryDF = pd.read_sql(\n",
    "\"\"\"SELECT \n",
    "    students.UniversityID AS StudentID, \n",
    "    students.Name AS Student,\n",
    "    SUM(submissions.EvaluationRequest = True) AS Number_Pending, \n",
    "    COUNT(scores.scoreId) AS Grades_Received, \n",
    "    ROUND(AVG(scores.value),1) AS Average_Grade\n",
    "FROM Students\n",
    "\n",
    "JOIN assignments ON students.universityId = assignments.universityId\n",
    "\n",
    "JOIN submissions ON assignments.assignmentId = submissions.assignmentId\n",
    "\n",
    "JOIN evaluations ON submissions.submissionId = evaluations.submissionId\n",
    "\n",
    "JOIN scores ON evaluations.evaluationId = scores.evaluationID\n",
    "\n",
    "GROUP BY students.UniversityId\"\"\", con = \"sqlite:///GradeDB.db\" )\n"
   ]
  },
  {
   "cell_type": "code",
   "execution_count": 23,
   "id": "ecd4a7fa",
   "metadata": {},
   "outputs": [
    {
     "data": {
      "text/html": [
       "<div>\n",
       "<style scoped>\n",
       "    .dataframe tbody tr th:only-of-type {\n",
       "        vertical-align: middle;\n",
       "    }\n",
       "\n",
       "    .dataframe tbody tr th {\n",
       "        vertical-align: top;\n",
       "    }\n",
       "\n",
       "    .dataframe thead th {\n",
       "        text-align: right;\n",
       "    }\n",
       "</style>\n",
       "<table border=\"1\" class=\"dataframe\">\n",
       "  <thead>\n",
       "    <tr style=\"text-align: right;\">\n",
       "      <th></th>\n",
       "      <th>StudentID</th>\n",
       "      <th>Student</th>\n",
       "      <th>Number_Pending</th>\n",
       "      <th>Grades_Received</th>\n",
       "      <th>Average_Grade</th>\n",
       "    </tr>\n",
       "  </thead>\n",
       "  <tbody>\n",
       "    <tr>\n",
       "      <th>0</th>\n",
       "      <td>6584</td>\n",
       "      <td>James BROWN</td>\n",
       "      <td>0</td>\n",
       "      <td>7</td>\n",
       "      <td>6.9</td>\n",
       "    </tr>\n",
       "    <tr>\n",
       "      <th>1</th>\n",
       "      <td>16785</td>\n",
       "      <td>Gary THOMAS</td>\n",
       "      <td>0</td>\n",
       "      <td>7</td>\n",
       "      <td>7.4</td>\n",
       "    </tr>\n",
       "    <tr>\n",
       "      <th>2</th>\n",
       "      <td>19979</td>\n",
       "      <td>Christopher JACKSON</td>\n",
       "      <td>0</td>\n",
       "      <td>6</td>\n",
       "      <td>6.7</td>\n",
       "    </tr>\n",
       "    <tr>\n",
       "      <th>3</th>\n",
       "      <td>23883</td>\n",
       "      <td>Alan WHITE</td>\n",
       "      <td>0</td>\n",
       "      <td>8</td>\n",
       "      <td>5.2</td>\n",
       "    </tr>\n",
       "    <tr>\n",
       "      <th>4</th>\n",
       "      <td>32128</td>\n",
       "      <td>Paul RAMIREZLEWIS</td>\n",
       "      <td>0</td>\n",
       "      <td>6</td>\n",
       "      <td>4.2</td>\n",
       "    </tr>\n",
       "    <tr>\n",
       "      <th>...</th>\n",
       "      <td>...</td>\n",
       "      <td>...</td>\n",
       "      <td>...</td>\n",
       "      <td>...</td>\n",
       "      <td>...</td>\n",
       "    </tr>\n",
       "    <tr>\n",
       "      <th>92</th>\n",
       "      <td>944783</td>\n",
       "      <td>Richard DAVISRODRIGUEZ</td>\n",
       "      <td>0</td>\n",
       "      <td>6</td>\n",
       "      <td>3.7</td>\n",
       "    </tr>\n",
       "    <tr>\n",
       "      <th>93</th>\n",
       "      <td>968929</td>\n",
       "      <td>Scott JONES</td>\n",
       "      <td>0</td>\n",
       "      <td>7</td>\n",
       "      <td>3.2</td>\n",
       "    </tr>\n",
       "    <tr>\n",
       "      <th>94</th>\n",
       "      <td>973125</td>\n",
       "      <td>Robert RAMIREZLEWIS</td>\n",
       "      <td>0</td>\n",
       "      <td>6</td>\n",
       "      <td>5.1</td>\n",
       "    </tr>\n",
       "    <tr>\n",
       "      <th>95</th>\n",
       "      <td>986359</td>\n",
       "      <td>William WRIGHT</td>\n",
       "      <td>0</td>\n",
       "      <td>8</td>\n",
       "      <td>6.5</td>\n",
       "    </tr>\n",
       "    <tr>\n",
       "      <th>96</th>\n",
       "      <td>994530</td>\n",
       "      <td>John SANCHEZ</td>\n",
       "      <td>0</td>\n",
       "      <td>6</td>\n",
       "      <td>7.4</td>\n",
       "    </tr>\n",
       "  </tbody>\n",
       "</table>\n",
       "<p>97 rows × 5 columns</p>\n",
       "</div>"
      ],
      "text/plain": [
       "    StudentID                 Student  Number_Pending  Grades_Received  \\\n",
       "0        6584             James BROWN               0                7   \n",
       "1       16785             Gary THOMAS               0                7   \n",
       "2       19979     Christopher JACKSON               0                6   \n",
       "3       23883              Alan WHITE               0                8   \n",
       "4       32128       Paul RAMIREZLEWIS               0                6   \n",
       "..        ...                     ...             ...              ...   \n",
       "92     944783  Richard DAVISRODRIGUEZ               0                6   \n",
       "93     968929             Scott JONES               0                7   \n",
       "94     973125     Robert RAMIREZLEWIS               0                6   \n",
       "95     986359          William WRIGHT               0                8   \n",
       "96     994530            John SANCHEZ               0                6   \n",
       "\n",
       "    Average_Grade  \n",
       "0             6.9  \n",
       "1             7.4  \n",
       "2             6.7  \n",
       "3             5.2  \n",
       "4             4.2  \n",
       "..            ...  \n",
       "92            3.7  \n",
       "93            3.2  \n",
       "94            5.1  \n",
       "95            6.5  \n",
       "96            7.4  \n",
       "\n",
       "[97 rows x 5 columns]"
      ]
     },
     "execution_count": 23,
     "metadata": {},
     "output_type": "execute_result"
    }
   ],
   "source": [
    "studentsSummaryDF"
   ]
  },
  {
   "cell_type": "code",
   "execution_count": 14,
   "id": "add09264",
   "metadata": {},
   "outputs": [
    {
     "data": {
      "text/html": [
       "<div>\n",
       "<style scoped>\n",
       "    .dataframe tbody tr th:only-of-type {\n",
       "        vertical-align: middle;\n",
       "    }\n",
       "\n",
       "    .dataframe tbody tr th {\n",
       "        vertical-align: top;\n",
       "    }\n",
       "\n",
       "    .dataframe thead th {\n",
       "        text-align: right;\n",
       "    }\n",
       "</style>\n",
       "<table border=\"1\" class=\"dataframe\">\n",
       "  <thead>\n",
       "    <tr style=\"text-align: right;\">\n",
       "      <th></th>\n",
       "      <th>StudentID</th>\n",
       "      <th>Student</th>\n",
       "      <th>Number_Pending</th>\n",
       "      <th>Grades_Received</th>\n",
       "      <th>Average_Grade</th>\n",
       "    </tr>\n",
       "  </thead>\n",
       "  <tbody>\n",
       "    <tr>\n",
       "      <th>1</th>\n",
       "      <td>16785</td>\n",
       "      <td>Craig GONZALEZ</td>\n",
       "      <td>8</td>\n",
       "      <td>8</td>\n",
       "      <td>6.4</td>\n",
       "    </tr>\n",
       "  </tbody>\n",
       "</table>\n",
       "</div>"
      ],
      "text/plain": [
       "   StudentID         Student  Number_Pending  Grades_Received  Average_Grade\n",
       "1      16785  Craig GONZALEZ               8                8            6.4"
      ]
     },
     "execution_count": 14,
     "metadata": {},
     "output_type": "execute_result"
    }
   ],
   "source": [
    "studentsSummaryDF[studentsSummaryDF[\"StudentID\"] == studentUniId]"
   ]
  }
 ],
 "metadata": {
  "kernelspec": {
   "display_name": "Python 3 (ipykernel)",
   "language": "python",
   "name": "python3"
  },
  "language_info": {
   "codemirror_mode": {
    "name": "ipython",
    "version": 3
   },
   "file_extension": ".py",
   "mimetype": "text/x-python",
   "name": "python",
   "nbconvert_exporter": "python",
   "pygments_lexer": "ipython3",
   "version": "3.9.7"
  }
 },
 "nbformat": 4,
 "nbformat_minor": 5
}
