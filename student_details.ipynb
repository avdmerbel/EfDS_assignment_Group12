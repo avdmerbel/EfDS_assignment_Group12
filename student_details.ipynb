{
 "cells": [
  {
   "cell_type": "markdown",
   "id": "cf4f8856",
   "metadata": {},
   "source": [
    "# Student Details"
   ]
  },
  {
   "cell_type": "raw",
   "id": "2b1c49bd",
   "metadata": {},
   "source": [
    "Notebook with on of the top cells containing an assignment like studentUniId = S123456. For the corresponding student the report should show all details from the database (e.g. scores for each evaluated question)"
   ]
  },
  {
   "cell_type": "code",
   "execution_count": null,
   "id": "2e951c20",
   "metadata": {},
   "outputs": [],
   "source": [
    "studentUniId = 'S123456'"
   ]
  },
  {
   "cell_type": "code",
   "execution_count": null,
   "id": "0fdf7d08",
   "metadata": {},
   "outputs": [],
   "source": [
    "from sqlalchemy import *\n",
    "import pandas as pd"
   ]
  },
  {
   "cell_type": "code",
   "execution_count": null,
   "id": "babb4930",
   "metadata": {},
   "outputs": [],
   "source": [
    "#pip install ipython-sql\n",
    "%load_ext sql\n",
    "%sql sqlite:///GradeDB.db"
   ]
  },
  {
   "cell_type": "raw",
   "id": "699900ba",
   "metadata": {},
   "source": [
    "studentsDF = pd.read_sql(\n",
    "\"\"\"SELECT \n",
    "    students.UniversityID AS Student, \n",
    "    students.Name AS Name, \n",
    "    students.Email AS Email, \n",
    "    COUNT(assignments.AssignmentId) AS Number_of_Assignments, \n",
    "    AVG(score.value) AS Average_Grade\n",
    "FROM Students\n",
    "\n",
    "JOIN assignments ON students.universityId = assignments.universityId\n",
    "\n",
    "JOIN submissions ON assignments.assignmentId = submission.assignmentId\n",
    "\n",
    "JOIN evaluations ON submissions.submissionId = evaluations.submissionID\n",
    "\n",
    "JOIN scores ON evaluations.evaluationId = scores.evaluationID\"\"\", con = \"sqlite:///GradeDB.db\" )\n"
   ]
  },
  {
   "cell_type": "raw",
   "id": "a2a0eede",
   "metadata": {},
   "source": [
    "studentsDF.loc[studentsDF[\"Student\"] == studentUniId]"
   ]
  }
 ],
 "metadata": {
  "kernelspec": {
   "display_name": "Python 3 (ipykernel)",
   "language": "python",
   "name": "python3"
  },
  "language_info": {
   "codemirror_mode": {
    "name": "ipython",
    "version": 3
   },
   "file_extension": ".py",
   "mimetype": "text/x-python",
   "name": "python",
   "nbconvert_exporter": "python",
   "pygments_lexer": "ipython3",
   "version": "3.9.7"
  }
 },
 "nbformat": 4,
 "nbformat_minor": 5
}
