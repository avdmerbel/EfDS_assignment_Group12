{
 "cells": [
  {
   "cell_type": "code",
   "execution_count": 1,
   "metadata": {},
   "outputs": [],
   "source": [
    "from sqlalchemy import *"
   ]
  },
  {
   "cell_type": "code",
   "execution_count": null,
   "metadata": {},
   "outputs": [],
   "source": [
    "!pip install ipython-sql # in case SQLite isnt installed yet"
   ]
  },
  {
   "cell_type": "code",
   "execution_count": 4,
   "metadata": {},
   "outputs": [
    {
     "name": "stdout",
     "output_type": "stream",
     "text": [
      "The sql extension is already loaded. To reload it, use:\n",
      "  %reload_ext sql\n"
     ]
    }
   ],
   "source": [
    "%load_ext sql\n",
    "%sql sqlite:///GradeDB.db"
   ]
  },
  {
   "cell_type": "code",
   "execution_count": null,
   "metadata": {},
   "outputs": [],
   "source": []
  },
  {
   "cell_type": "markdown",
   "metadata": {},
   "source": [
    "## Tables without Reference ID"
   ]
  },
  {
   "cell_type": "markdown",
   "metadata": {},
   "source": [
    "### Students Table"
   ]
  },
  {
   "cell_type": "code",
   "execution_count": null,
   "metadata": {},
   "outputs": [],
   "source": [
    "%%sql\n",
    "CREATE TABLE IF NOT EXISTS Student (\n",
    "   UniversityID INTEGER PRIMARY KEY,\n",
    "   first_name TEXT NOT NULL,\n",
    "   last_name TEXT NOT NULL,\n",
    "   Email TEXT NOT NULL UNIQUE,\n",
    ")"
   ]
  },
  {
   "cell_type": "markdown",
   "metadata": {},
   "source": [
    "### Question Table"
   ]
  },
  {
   "cell_type": "code",
   "execution_count": null,
   "metadata": {},
   "outputs": [],
   "source": [
    "%%sql\n",
    "CREATE TABLE IF NOT EXISTS Question (\n",
    "   QuestionID INTEGER PRIMARY KEY,\n",
    "   Titel TEXT NOT NULL UNIQUE,\n",
    "   Text TEXT NOT NULL UNIQUE,\n",
    ")"
   ]
  },
  {
   "cell_type": "markdown",
   "metadata": {},
   "source": [
    "### Task Table"
   ]
  },
  {
   "cell_type": "code",
   "execution_count": null,
   "metadata": {},
   "outputs": [],
   "source": [
    "%%sql\n",
    "CREATE TABLE IF NOT EXISTS Task(\n",
    "   TaskID INTEGER PRIMARY KEY,\n",
    "   Titel TEXT NOT NULL UNIQUE,\n",
    "   Text TEXT NOT NULL UNIQUE,\n",
    ")"
   ]
  },
  {
   "cell_type": "markdown",
   "metadata": {},
   "source": [
    "### Evaluation Table"
   ]
  },
  {
   "cell_type": "code",
   "execution_count": null,
   "metadata": {},
   "outputs": [],
   "source": [
    "%%sql\n",
    "CREATE TABLE IF NOT EXISTS Task(\n",
    "   EvaluationID INTEGER PRIMARY KEY,\n",
    ")"
   ]
  },
  {
   "cell_type": "markdown",
   "metadata": {},
   "source": [
    "## Tables with reference ID"
   ]
  },
  {
   "cell_type": "markdown",
   "metadata": {},
   "source": [
    "### QuestionTask Table"
   ]
  },
  {
   "cell_type": "code",
   "execution_count": null,
   "metadata": {},
   "outputs": [],
   "source": [
    "CREATE TABLE IF NOT EXISTS QuestionTask(\n",
    "   QuestionID INTEGER,\n",
    "   TaskID INTEGER,\n",
    "   PRIMARY KEY (QuestionID, TaskID),\n",
    "   FOREIGN KEY (QuestionID) \n",
    "      REFERENCES contacts (QuestionID) \n",
    "         ON DELETE CASCADE \n",
    "         ON UPDATE NO ACTION,\n",
    "   FOREIGN KEY (TaskID) \n",
    "      REFERENCES groups (TaskID) \n",
    "         ON DELETE CASCADE \n",
    "         ON UPDATE NO ACTION\n",
    ")"
   ]
  },
  {
   "cell_type": "markdown",
   "metadata": {},
   "source": [
    "### EvaluationTask Table"
   ]
  },
  {
   "cell_type": "code",
   "execution_count": null,
   "metadata": {},
   "outputs": [],
   "source": [
    "CREATE TABLE IF NOT EXISTS QuestionTask(\n",
    "   EvaluationID INTEGER,\n",
    "   SubmissionID INTEGER,\n",
    "   PRIMARY KEY (EvaluationID, SubmissionID),\n",
    "   FOREIGN KEY (EvaluationID) \n",
    "      REFERENCES contacts (EvaluationID) \n",
    "         ON DELETE CASCADE \n",
    "         ON UPDATE NO ACTION,\n",
    "   FOREIGN KEY (SubmissionID) \n",
    "      REFERENCES groups (SubmissionID) \n",
    "         ON DELETE CASCADE \n",
    "         ON UPDATE NO ACTION\n",
    ")"
   ]
  }
 ],
 "metadata": {
  "interpreter": {
   "hash": "ef6d08c772a1ee43022a90cf142ded958c41953f881552b9c11354051585fc0b"
  },
  "kernelspec": {
   "display_name": "Python 3.9.7 ('base')",
   "language": "python",
   "name": "python3"
  },
  "language_info": {
   "codemirror_mode": {
    "name": "ipython",
    "version": 3
   },
   "file_extension": ".py",
   "mimetype": "text/x-python",
   "name": "python",
   "nbconvert_exporter": "python",
   "pygments_lexer": "ipython3",
   "version": "3.9.7"
  },
  "orig_nbformat": 4
 },
 "nbformat": 4,
 "nbformat_minor": 2
}
