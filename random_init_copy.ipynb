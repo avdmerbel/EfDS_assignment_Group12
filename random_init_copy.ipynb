{
 "cells": [
  {
   "cell_type": "markdown",
   "id": "2f195df0",
   "metadata": {},
   "source": [
    "# Random Init"
   ]
  },
  {
   "cell_type": "markdown",
   "id": "723bb6d5",
   "metadata": {},
   "source": [
    "## SQL alchemy initialize"
   ]
  },
  {
   "cell_type": "code",
   "execution_count": 1,
   "id": "fbd17d32",
   "metadata": {},
   "outputs": [],
   "source": [
    "import urllib.request    # needed for download of the example database\n",
    "import shutil            # needed for unziping of the example database\n",
    "import os                # for checking existence/removing of a file\n",
    "import sqlalchemy\n",
    "import gradedb_copy as gdb"
   ]
  },
  {
   "cell_type": "code",
   "execution_count": 2,
   "id": "6e9fe16a",
   "metadata": {},
   "outputs": [],
   "source": [
    "from sqlalchemy import create_engine, Column, Integer, String, ForeignKey, MetaData\n",
    "from sqlalchemy.orm import relationship, sessionmaker\n",
    "from sqlalchemy.ext.declarative import declarative_base"
   ]
  },
  {
   "cell_type": "code",
   "execution_count": null,
   "id": "d5862f7a",
   "metadata": {},
   "outputs": [],
   "source": [
    "from random import choice, randint\n",
    "import random"
   ]
  },
  {
   "cell_type": "code",
   "execution_count": null,
   "id": "9901d398",
   "metadata": {},
   "outputs": [],
   "source": [
    "#engine = create_engine(\"sqlite:///GradeDB.db\",echo=False)\n",
    "#sessionMaker = sessionmaker(bind=engine)\n",
    "#session = sessionMaker()"
   ]
  },
  {
   "cell_type": "code",
   "execution_count": 3,
   "id": "6c0c77c6",
   "metadata": {},
   "outputs": [],
   "source": [
    "db = gdb.GradeDB(\"GradeDB.db\")"
   ]
  },
  {
   "cell_type": "markdown",
   "id": "b1a3bdc6",
   "metadata": {},
   "source": [
    "## Lists"
   ]
  },
  {
   "cell_type": "code",
   "execution_count": null,
   "id": "bb991527",
   "metadata": {},
   "outputs": [],
   "source": [
    "FirstNames = ['David', \"John\", \"Paul\", \"Mark\", \"James\", \"Andrew\", \"Scott\", \n",
    "              \"Steven\", \"Robert\", \"Stephen\", \"William\", \"Craig\", \"Michael\",\n",
    "              \"Stuart\", \"Christopher\", \"Alan\", \"Colin\", \"Brian\", \"Kevin\",\n",
    "              \"Gary\", \"Richard\", \"Derek\", \"Martin\", \"Thomas\", \"Neil\", \"Barry\",\n",
    "              \"Ian\", \"Jason\", \"Iain\", \"Gordon\", \"Alexander\", \"Graeme\", \"Peter\"]\n",
    "LastNames = [\"JOHNSON\", \"WILLIAMS\", \"BROWN\", \"JONES\", \"GARCIA\", \"MILLER\", \"DAVIS\"\n",
    "             \"RODRIGUEZ\", \"MARTINEZ\", \"HERNANDEZ\", \"LOPEZ\", \"GONZALEZ\", \"WILSON\",\n",
    "             \"ANDERSON\", \"THOMAS\", \"TAYLOR\", \"MOORE\", \"JACKSON\", \"MARTIN\", \"LEE\", \n",
    "             \"PEREZ\", \"THOMPSON\", \"WHITE\", \"HARRIS\", \"SANCHEZ\", \"CLARK\", \"RAMIREZ\"\n",
    "             \"LEWIS\", \"ROBINSON\", \"WALKER\", \"YOUNG\", \"ALLEN\", \"KING\", \"WRIGHT\"]\n",
    "Email = [\".cooldude\", \"_xxx\", \"gamerlord\", \".127473\", \"herro\", \"master\", \".sweety\", \"_luv_u\",\n",
    "        \".lets.go\", \".mymail\", \"uni\", \"_xXxhardcore\", \".blabla\", \"12247\", \".123\", \"17343\",\n",
    "        \"_121\", \"38568965\", \"98\", \"_97\"]\n",
    "Atmail = [\"@gmail.com\", \"@outlook.com\", \"@icloud.com\", \"@hotmail.com\", \"@yahoo.com\",\n",
    "         \"@umail.leidenuniv.nl\"]\n",
    "#UniID = list()\n",
    "#for i in range(100):\n",
    "    #UniID.append(random.randint(0,1000000))\n",
    "#print(UniID)\n",
    "UniID = [914542, 474164, 872801, 23883, 490595, 402933, 853644, 678145, \n",
    "         384583, 906267, 760047, 828722, 19979, 519533, 613745, 749424, \n",
    "         282311, 38169, 706727, 560551, 799839, 744692, 16785, 163253, \n",
    "         898979, 644538, 203977, 466995, 365930, 258886, 382302, 178408, \n",
    "         456059, 371680, 514837, 329449, 531103, 6584, 699763, 354161, \n",
    "         349891, 525024, 814968, 373456, 518193, 915653, 410380, 614531, \n",
    "         285498, 173967, 336671, 884170, 791537, 994530, 913624, 915356, \n",
    "         471475, 305163, 643865, 551569, 35995, 484675, 842517, 426822, \n",
    "         288068, 767860, 839263, 408265, 32128, 125715, 944783, 110588, \n",
    "         623055, 645582, 523808, 709822, 59036, 973125, 716298, 380023, \n",
    "         968929, 699637, 339254, 623639, 198997, 614304, 252185, 76282, \n",
    "         266719, 380516, 822963, 266730, 623826, 341434, 873637, 402527, \n",
    "         986359, 124282, 660431, 554215]"
   ]
  },
  {
   "cell_type": "code",
   "execution_count": null,
   "id": "f8fdf0ec",
   "metadata": {},
   "outputs": [],
   "source": [
    "Text = [\"What's something you wish you'd figured out sooner?\", \n",
    "       \"Who are some of your heroes?\", \n",
    "       \"In your group of friends, what role do you play?\",\n",
    "       \"What is your theme song and why?\", \"Pirates or ninjas?\",\n",
    "       \"What's something you learned in the last week?\",\n",
    "       \"What's the last book you gave up on and stopped reading?\",\n",
    "       \"What's one place you've travelled that you never want to go back to?\", \n",
    "       \"What's your favorite candy?\", \n",
    "       \"What is one of the great values that guides your life?\",\n",
    "       \"Who was your favorite teacher and why?\",\n",
    "       \"What's something you wish you'd figured out sooner?\",\n",
    "       \"Have you ever saved someone's life?\",\n",
    "       \"What do you like most about your family?\",\n",
    "       \"What issue will you always speak your mind about?\",\n",
    "       \"Mountains or ocean?\", \n",
    "       \"What story does your family always tell about you?\"]\n",
    "Letter = [\"A\", \"B\", \"C\", \"D\", \"E\", \"F\", \"G\", \"H\", \"I\", \"J\", \"K\",\n",
    "         \"L\", \"M\", \"N\", \"O\", \"P\", \"Q\"]\n",
    "#, \"R\", \"S\", \"T\", \"U\", \"V\", \"W\", \"X\", \"Y\", \"Z\"] List was longer than questions"
   ]
  },
  {
   "cell_type": "code",
   "execution_count": null,
   "id": "da1e84de",
   "metadata": {},
   "outputs": [],
   "source": [
    "TaskText = [\"Questions regarding your self-image.\",\n",
    "           \"Answer the following questions concerning your personal preferences.\",\n",
    "           \"Please be honest when answering the following questions.\"]\n",
    "Question = list()\n",
    "for i in range(len(Letter)):\n",
    "    Question.append(\"Question \" + Letter[i])\n",
    "print(Question)"
   ]
  },
  {
   "cell_type": "code",
   "execution_count": null,
   "id": "93f928e0",
   "metadata": {},
   "outputs": [],
   "source": [
    "sqlalchemy.__version__"
   ]
  },
  {
   "cell_type": "markdown",
   "id": "7dc65ffc",
   "metadata": {},
   "source": [
    "## Add random items"
   ]
  },
  {
   "cell_type": "code",
   "execution_count": 5,
   "id": "69b1fa39",
   "metadata": {},
   "outputs": [],
   "source": [
    "db.addStudent(name = \"frank\", email = \"@fcloud.com\", unid = 714543 )"
   ]
  },
  {
   "cell_type": "code",
   "execution_count": 6,
   "id": "4b68910e",
   "metadata": {},
   "outputs": [],
   "source": [
    "db.addQuestion( title = \"Title\", text = \"Test Question\" )"
   ]
  },
  {
   "cell_type": "code",
   "execution_count": 7,
   "id": "809b534a",
   "metadata": {},
   "outputs": [],
   "source": [
    "db.addQuestion(title = \"Title2\", text = \"Test 2\")"
   ]
  },
  {
   "cell_type": "code",
   "execution_count": 8,
   "id": "7efc0ef3",
   "metadata": {},
   "outputs": [],
   "source": [
    "db.addTask( title = \"Titel A\", text = \"test text\", questions = 1)"
   ]
  },
  {
   "cell_type": "code",
   "execution_count": 9,
   "id": "ffe2d43f",
   "metadata": {},
   "outputs": [],
   "source": [
    "db.addAssignment( student = 714543, task = 1)"
   ]
  },
  {
   "cell_type": "code",
   "execution_count": null,
   "id": "8c106f12",
   "metadata": {},
   "outputs": [],
   "source": [
    "db.addScore( Answer = i, Value = grade )"
   ]
  },
  {
   "cell_type": "code",
   "execution_count": null,
   "id": "974c6e4e",
   "metadata": {},
   "outputs": [],
   "source": [
    "for i in range(100):\n",
    "  Name = choice(FirstNames) + \" \" + choice(LastNames)\n",
    "  Email = choice(FirstNames) + choice(Email) + choice(Atmail)\n",
    "  UnID = UniID[i]\n",
    "  db.addStudent(name = Name, email = Email, unid = UnID )"
   ]
  },
  {
   "cell_type": "code",
   "execution_count": null,
   "id": "41097033",
   "metadata": {},
   "outputs": [],
   "source": [
    "for i in range(len(Text)):\n",
    "    Title = \"Question \" + Letter[i]\n",
    "    QText = Text[i]\n",
    "    print(QText)\n",
    "    db.addQuestion( title = Title, text = QText )"
   ]
  },
  {
   "cell_type": "code",
   "execution_count": null,
   "id": "27924948",
   "metadata": {},
   "outputs": [],
   "source": [
    "for i in range(3):\n",
    "    title = \"Project \" + Letter[i]\n",
    "    text = TaskText[i]\n",
    "    questions = list()\n",
    "    for j in range(8):\n",
    "        questions.append(choice(Question))\n",
    "    db.addTask( Title = title, Text = text, Questions = questions)"
   ]
  },
  {
   "cell_type": "code",
   "execution_count": null,
   "id": "3895c0fe",
   "metadata": {},
   "outputs": [],
   "source": [
    "for i in range(100):\n",
    "    studentid = UniID[i]\n",
    "    task = choice(Projects)\n",
    "    db.addAssignment( Student = studentid, Task = task)"
   ]
  },
  {
   "cell_type": "code",
   "execution_count": null,
   "id": "d517f731",
   "metadata": {},
   "outputs": [],
   "source": [
    "for i in answer:\n",
    "    grade = random.randint(0,100)/10\n",
    "    db.addScore( Answer = i, Value = grade )"
   ]
  }
 ],
 "metadata": {
  "kernelspec": {
   "display_name": "Python 3",
   "language": "python",
   "name": "python3"
  },
  "language_info": {
   "codemirror_mode": {
    "name": "ipython",
    "version": 3
   },
   "file_extension": ".py",
   "mimetype": "text/x-python",
   "name": "python",
   "nbconvert_exporter": "python",
   "pygments_lexer": "ipython3",
   "version": "3.10.4"
  }
 },
 "nbformat": 4,
 "nbformat_minor": 5
}
