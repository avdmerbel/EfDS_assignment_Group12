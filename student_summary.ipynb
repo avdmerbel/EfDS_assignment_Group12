{
 "cells": [
  {
   "cell_type": "markdown",
   "id": "f6f28ef8",
   "metadata": {},
   "source": [
    "# Student Summary"
   ]
  },
  {
   "cell_type": "raw",
   "id": "95972919",
   "metadata": {},
   "source": [
    "Notebook wiht one of the top cells containing an assingment like studentUniId = S123456. For the corresponding student the report should show a general summary important to the student (total grades for evaluated reports, whether submitted reports are pending for evaluation, etc.)"
   ]
  }
 ],
 "metadata": {
  "kernelspec": {
   "display_name": "Python 3 (ipykernel)",
   "language": "python",
   "name": "python3"
  },
  "language_info": {
   "codemirror_mode": {
    "name": "ipython",
    "version": 3
   },
   "file_extension": ".py",
   "mimetype": "text/x-python",
   "name": "python",
   "nbconvert_exporter": "python",
   "pygments_lexer": "ipython3",
   "version": "3.9.7"
  }
 },
 "nbformat": 4,
 "nbformat_minor": 5
}
