{
 "cells": [
  {
   "cell_type": "code",
   "execution_count": null,
   "metadata": {},
   "outputs": [],
   "source": [
    "from sqlalchemy import *"
   ]
  },
  {
   "cell_type": "code",
   "execution_count": null,
   "metadata": {},
   "outputs": [],
   "source": [
    "!pip install ipython-sql # in case SQLite isnt installed yet"
   ]
  },
  {
   "cell_type": "code",
   "execution_count": null,
   "metadata": {},
   "outputs": [],
   "source": [
    "%load_ext sql"
   ]
  },
  {
   "cell_type": "code",
   "execution_count": null,
   "metadata": {},
   "outputs": [],
   "source": [
    "%sql sqlite:///GradeDB.db"
   ]
  },
  {
   "cell_type": "code",
   "execution_count": null,
   "metadata": {},
   "outputs": [],
   "source": [
    "%%sql\n",
    "DROP TABLE IF EXISTS Assignments"
   ]
  },
  {
   "cell_type": "code",
   "execution_count": null,
   "metadata": {},
   "outputs": [],
   "source": [
    "%%sql\n",
    "DROP TABLE IF EXISTS EvaluationFinished"
   ]
  },
  {
   "cell_type": "code",
   "execution_count": null,
   "metadata": {},
   "outputs": [],
   "source": [
    "%%sql\n",
    "DROP TABLE IF EXISTS EvaluationRequest"
   ]
  },
  {
   "cell_type": "code",
   "execution_count": null,
   "metadata": {},
   "outputs": [],
   "source": [
    "%%sql\n",
    "DROP TABLE IF EXISTS Evaluations\n"
   ]
  },
  {
   "cell_type": "code",
   "execution_count": null,
   "metadata": {},
   "outputs": [],
   "source": [
    "%%sql\n",
    "DROP TABLE IF EXISTS Questions\n"
   ]
  },
  {
   "cell_type": "code",
   "execution_count": null,
   "metadata": {},
   "outputs": [],
   "source": [
    "%%sql\n",
    "DROP TABLE IF EXISTS Scores\n"
   ]
  },
  {
   "cell_type": "code",
   "execution_count": null,
   "metadata": {},
   "outputs": [],
   "source": [
    "%%sql\n",
    "DROP TABLE IF EXISTS Answers"
   ]
  },
  {
   "cell_type": "code",
   "execution_count": null,
   "metadata": {},
   "outputs": [],
   "source": [
    "%%sql\n",
    "DROP TABLE IF EXISTS Submissions"
   ]
  },
  {
   "cell_type": "code",
   "execution_count": null,
   "metadata": {},
   "outputs": [],
   "source": [
    "%%sql\n",
    "DROP TABLE IF EXISTS Tasks"
   ]
  },
  {
   "cell_type": "code",
   "execution_count": null,
   "metadata": {},
   "outputs": [],
   "source": [
    "%%sql\n",
    "DROP TABLE IF EXISTS taskquestionLink"
   ]
  },
  {
   "cell_type": "code",
   "execution_count": null,
   "metadata": {},
   "outputs": [],
   "source": [
    "%%sql\n",
    "DROP TABLE IF EXISTS Students"
   ]
  },
  {
   "cell_type": "markdown",
   "metadata": {},
   "source": [
    "## Tables without Reference ID"
   ]
  },
  {
   "cell_type": "markdown",
   "metadata": {},
   "source": [
    "### Students Table"
   ]
  },
  {
   "cell_type": "code",
   "execution_count": null,
   "metadata": {},
   "outputs": [],
   "source": [
    "%%sql\n",
    "CREATE TABLE IF NOT EXISTS Students (\n",
    "   UniversityID INTEGER PRIMARY KEY,\n",
    "   Name TEXT NOT NULL,\n",
    "   Email TEXT NOT NULL UNIQUE\n",
    ")"
   ]
  },
  {
   "cell_type": "markdown",
   "metadata": {},
   "source": [
    "### Question Table"
   ]
  },
  {
   "cell_type": "code",
   "execution_count": null,
   "metadata": {},
   "outputs": [],
   "source": [
    "%%sql\n",
    "CREATE TABLE IF NOT EXISTS Questions (\n",
    "   QuestionID INTEGER PRIMARY KEY,\n",
    "   Title TEXT NOT NULL UNIQUE,\n",
    "   Text TEXT NOT NULL UNIQUE\n",
    ")"
   ]
  },
  {
   "cell_type": "markdown",
   "metadata": {},
   "source": [
    "### Task Table"
   ]
  },
  {
   "cell_type": "code",
   "execution_count": null,
   "metadata": {},
   "outputs": [],
   "source": [
    "%%sql\n",
    "CREATE TABLE IF NOT EXISTS Tasks (\n",
    "   TaskID INTEGER PRIMARY KEY,\n",
    "   Titel TEXT NOT NULL UNIQUE,\n",
    "   Text TEXT NOT NULL UNIQUE\n",
    ")"
   ]
  },
  {
   "cell_type": "markdown",
   "metadata": {},
   "source": [
    "### Evaluation Table"
   ]
  },
  {
   "cell_type": "code",
   "execution_count": null,
   "metadata": {},
   "outputs": [],
   "source": [
    "%%sql\n",
    "CREATE TABLE IF NOT EXISTS Evaluations (\n",
    "   EvaluationID INTEGER PRIMARY KEY\n",
    ")"
   ]
  },
  {
   "cell_type": "markdown",
   "metadata": {},
   "source": [
    "## Tables with reference ID"
   ]
  },
  {
   "cell_type": "markdown",
   "metadata": {},
   "source": [
    "### QuestionTask Table"
   ]
  },
  {
   "cell_type": "code",
   "execution_count": null,
   "metadata": {},
   "outputs": [],
   "source": [
    "%%sql\n",
    "CREATE TABLE IF NOT EXISTS taskquestionLink (\n",
    "   QuestionID INTEGER,\n",
    "   TaskID INTEGER,\n",
    "   PRIMARY KEY (QuestionID, TaskID),\n",
    "   FOREIGN KEY (QuestionID) \n",
    "      REFERENCES Questions (QuestionID) \n",
    "         ON DELETE CASCADE \n",
    "         ON UPDATE NO ACTION,\n",
    "   FOREIGN KEY (TaskID) \n",
    "      REFERENCES Tasks (TaskID) \n",
    "         ON DELETE CASCADE \n",
    "         ON UPDATE NO ACTION\n",
    ")"
   ]
  },
  {
   "cell_type": "markdown",
   "metadata": {},
   "source": [
    "### EvaluationRequest Table"
   ]
  },
  {
   "cell_type": "code",
   "execution_count": null,
   "metadata": {},
   "outputs": [],
   "source": [
    "%%sql\n",
    "CREATE TABLE IF NOT EXISTS EvaluationRequest (\n",
    "   EvaluationID INTEGER,\n",
    "   SubmissionID INTEGER,\n",
    "   PRIMARY KEY (EvaluationID, SubmissionID),\n",
    "   FOREIGN KEY (EvaluationID) \n",
    "      REFERENCES Evaluations (EvaluationID),\n",
    "   FOREIGN KEY (SubmissionID) \n",
    "      REFERENCES Submissions (SubmissionID) \n",
    "         ON DELETE CASCADE \n",
    "         ON UPDATE NO ACTION\n",
    ")"
   ]
  },
  {
   "cell_type": "markdown",
   "metadata": {},
   "source": [
    "### EvaluationFinished Table"
   ]
  },
  {
   "cell_type": "code",
   "execution_count": null,
   "metadata": {},
   "outputs": [],
   "source": [
    "%%sql\n",
    "CREATE TABLE IF NOT EXISTS EvaluationFinished (\n",
    "   FinishedID INTEGER PRIMARY KEY,\n",
    "   EvaluationID INTEGER,\n",
    "   FOREIGN KEY (EvaluationID) \n",
    "      REFERENCES Evaluation (EvaluationID)\n",
    ")"
   ]
  },
  {
   "cell_type": "markdown",
   "metadata": {},
   "source": [
    "### Assignment Table"
   ]
  },
  {
   "cell_type": "code",
   "execution_count": null,
   "metadata": {},
   "outputs": [],
   "source": [
    "%%sql\n",
    "CREATE TABLE IF NOT EXISTS Assignments (\n",
    "   AssignmentID INTEGER PRIMARY KEY,\n",
    "   StudentID INTEGER,\n",
    "   TaskID INTEGER,\n",
    "   FOREIGN KEY (StudentID) \n",
    "      REFERENCES Students (StudentID),\n",
    "   FOREIGN KEY (TaskID) \n",
    "      REFERENCES Tasks (TaskID)\n",
    ")  \n",
    "         "
   ]
  },
  {
   "cell_type": "markdown",
   "metadata": {},
   "source": [
    "### Answer Table"
   ]
  },
  {
   "cell_type": "code",
   "execution_count": null,
   "metadata": {},
   "outputs": [],
   "source": [
    "%%sql\n",
    "CREATE TABLE IF NOT EXISTS Answers (\n",
    "   AnswerID INTEGER PRIMARY KEY,\n",
    "   Text TEXT NOT NULL,\n",
    "   QuestionID INTEGER,\n",
    "   SubmissionID INTEGER,\n",
    "   FOREIGN KEY (QuestionID) \n",
    "      REFERENCES Questions (QuestionID),\n",
    "   FOREIGN KEY (SubmissionID) \n",
    "      REFERENCES Submissions (SubmissionID)\n",
    ") "
   ]
  },
  {
   "cell_type": "markdown",
   "metadata": {},
   "source": [
    "### Submission Table"
   ]
  },
  {
   "cell_type": "code",
   "execution_count": null,
   "metadata": {},
   "outputs": [],
   "source": [
    "%%sql\n",
    "CREATE TABLE IF NOT EXISTS Submissions (\n",
    "   SubmissionID INTEGER PRIMARY KEY,\n",
    "   AssignmentID INTEGER,\n",
    "   FOREIGN KEY (AssignmentID) \n",
    "      REFERENCES Assignments (AssignmentID)\n",
    ")"
   ]
  },
  {
   "cell_type": "markdown",
   "metadata": {},
   "source": [
    "### Score"
   ]
  },
  {
   "cell_type": "code",
   "execution_count": null,
   "metadata": {},
   "outputs": [],
   "source": [
    "%%sql\n",
    "CREATE TABLE IF NOT EXISTS Scores (\n",
    "   ScoreID INTEGER PRIMARY KEY,\n",
    "   Value FLOAT,\n",
    "   EvaluationID INTEGER,\n",
    "   AnswerID INTEGER,\n",
    "   FOREIGN KEY (EvaluationID) \n",
    "      REFERENCES Evaluations (EvaluationID),\n",
    "   FOREIGN KEY (AnswerID) \n",
    "      REFERENCES Answers (AnswerID)\n",
    ")"
   ]
  },
  {
   "cell_type": "code",
   "execution_count": null,
   "metadata": {},
   "outputs": [],
   "source": []
  }
 ],
 "metadata": {
  "interpreter": {
   "hash": "ef6d08c772a1ee43022a90cf142ded958c41953f881552b9c11354051585fc0b"
  },
  "kernelspec": {
   "display_name": "Python 3.9.7 ('base')",
   "language": "python",
   "name": "python3"
  },
  "language_info": {
   "codemirror_mode": {
    "name": "ipython",
    "version": 3
   },
   "file_extension": ".py",
   "mimetype": "text/x-python",
   "name": "python",
   "nbconvert_exporter": "python",
   "pygments_lexer": "ipython3",
   "version": "3.9.7"
  },
  "orig_nbformat": 4
 },
 "nbformat": 4,
 "nbformat_minor": 2
}
