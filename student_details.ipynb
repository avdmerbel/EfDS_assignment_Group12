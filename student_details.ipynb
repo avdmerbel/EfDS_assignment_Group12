{
 "cells": [
  {
   "cell_type": "markdown",
   "id": "cf4f8856",
   "metadata": {},
   "source": [
    "# Student Details"
   ]
  },
  {
   "cell_type": "raw",
   "id": "2b1c49bd",
   "metadata": {},
   "source": [
    "Notebook wiht on of the top cells containing an assignment like studentUniId = S123456. For the corresponding student the report should show all details from the database (e.g. scores for each evaluated question)"
   ]
  }
 ],
 "metadata": {
  "kernelspec": {
   "display_name": "Python 3 (ipykernel)",
   "language": "python",
   "name": "python3"
  },
  "language_info": {
   "codemirror_mode": {
    "name": "ipython",
    "version": 3
   },
   "file_extension": ".py",
   "mimetype": "text/x-python",
   "name": "python",
   "nbconvert_exporter": "python",
   "pygments_lexer": "ipython3",
   "version": "3.9.7"
  }
 },
 "nbformat": 4,
 "nbformat_minor": 5
}
