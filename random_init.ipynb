{
 "cells": [
  {
   "cell_type": "markdown",
   "metadata": {},
   "source": [
    "# Random Init"
   ]
  },
  {
   "cell_type": "raw",
   "metadata": {},
   "source": [
    "Notebook which initializes the database with some (random) content. (please add enough content so the reports below make sense)"
   ]
  },
  {
   "cell_type": "markdown",
   "metadata": {},
   "source": [
    "## SQL alchemy initialize"
   ]
  },
  {
   "cell_type": "code",
   "execution_count": 1,
   "metadata": {},
   "outputs": [],
   "source": [
    "import urllib.request    # needed for download of the example database\n",
    "import shutil            # needed for unziping of the example database\n",
    "import os                # for checking existence/removing of a file\n",
    "import sqlalchemy\n",
    "import gradedb_copy as gdb"
   ]
  },
  {
   "cell_type": "code",
   "execution_count": 2,
   "metadata": {},
   "outputs": [],
   "source": [
    "from sqlalchemy import create_engine, Column, Integer, String, ForeignKey, MetaData\n",
    "from sqlalchemy.orm import relationship, sessionmaker\n",
    "from sqlalchemy.ext.declarative import declarative_base"
   ]
  },
  {
   "cell_type": "code",
   "execution_count": 3,
   "metadata": {},
   "outputs": [],
   "source": [
    "from random import choice, randint\n",
    "import random\n",
    "import numpy as np"
   ]
  },
  {
   "cell_type": "code",
   "execution_count": 4,
   "metadata": {},
   "outputs": [],
   "source": [
    "engine = create_engine(\"sqlite:///GradeDB.db\",echo=False)\n",
    "sessionMaker = sessionmaker(bind=engine)\n",
    "Session = sessionMaker()"
   ]
  },
  {
   "cell_type": "code",
   "execution_count": 5,
   "metadata": {},
   "outputs": [],
   "source": [
    "db = gdb.GradeDB(\"GradeDB.db\")"
   ]
  },
  {
   "cell_type": "markdown",
   "metadata": {},
   "source": [
    "## Lists"
   ]
  },
  {
   "cell_type": "code",
   "execution_count": 6,
   "metadata": {},
   "outputs": [],
   "source": [
    "FirstNames = ['David', \"John\", \"Paul\", \"Mark\", \"James\", \"Andrew\", \"Scott\", \n",
    "              \"Steven\", \"Robert\", \"Stephen\", \"William\", \"Craig\", \"Michael\",\n",
    "              \"Stuart\", \"Christopher\", \"Alan\", \"Colin\", \"Brian\", \"Kevin\",\n",
    "              \"Gary\", \"Richard\", \"Derek\", \"Martin\", \"Thomas\", \"Neil\", \"Barry\",\n",
    "              \"Ian\", \"Jason\", \"Iain\", \"Gordon\", \"Alexander\", \"Graeme\", \"Peter\"]\n",
    "LastNames = [\"JOHNSON\", \"WILLIAMS\", \"BROWN\", \"JONES\", \"GARCIA\", \"MILLER\", \"DAVIS\"\n",
    "             \"RODRIGUEZ\", \"MARTINEZ\", \"HERNANDEZ\", \"LOPEZ\", \"GONZALEZ\", \"WILSON\",\n",
    "             \"ANDERSON\", \"THOMAS\", \"TAYLOR\", \"MOORE\", \"JACKSON\", \"MARTIN\", \"LEE\", \n",
    "             \"PEREZ\", \"THOMPSON\", \"WHITE\", \"HARRIS\", \"SANCHEZ\", \"CLARK\", \"RAMIREZ\"\n",
    "             \"LEWIS\", \"ROBINSON\", \"WALKER\", \"YOUNG\", \"ALLEN\", \"KING\", \"WRIGHT\", \"JANSEN\"]\n",
    "Amail = [\".cooldude\", \"_xxx\", \"gamerlord\", \".127473\", \"herro\", \"master\", \".sweety\", \"_luv_u\",\n",
    "        \".lets.go\", \".mymail\", \"uni\", \"_xXxhardcore\", \".blabla\", \"12247\", \".123\", \"17343\",\n",
    "        \"_121\", \"38568965\", \"98\", \"_97\"]\n",
    "Atmail = [\"@gmail.com\", \"@outlook.com\", \"@icloud.com\", \"@hotmail.com\", \"@yahoo.com\",\n",
    "         \"@umail.leidenuniv.nl\"]\n",
    "UniID = [914542, 474164, 872801, 23883, 490595, 402933, 853644, 678145, \n",
    "         384583, 906267, 760047, 828722, 19979, 519533, 613745, 749424, \n",
    "         282311, 38169, 706727, 560551, 799839, 744692, 16785, 163253, \n",
    "         898979, 644538, 203977, 466995, 365930, 258886, 382302, 178408, \n",
    "         456059, 371680, 514837, 329449, 531103, 6584, 699763, 354161, \n",
    "         349891, 525024, 814968, 373456, 518193, 915653, 410380, 614531, \n",
    "         285498, 173967, 336671, 884170, 791537, 994530, 913624, 915356, \n",
    "         471475, 305163, 643865, 551569, 35995, 484675, 842517, 426822, \n",
    "         288068, 767860, 839263, 408265, 32128, 125715, 944783, 110588, \n",
    "         623055, 645582, 523808, 709822, 59036, 973125, 716298, 380023, \n",
    "         968929, 699637, 339254, 623639, 198997, 614304, 252185, 76282, \n",
    "         266719, 380516, 822963, 266730, 623826, 341434, 873637, 402527, \n",
    "         986359, 124282, 660431, 554215]"
   ]
  },
  {
   "cell_type": "code",
   "execution_count": 7,
   "metadata": {},
   "outputs": [],
   "source": [
    "Text = [\"What's something you wish you'd figured out sooner?\", \n",
    "       \"Who are some of your heroes?\", \n",
    "       \"In your group of friends, what role do you play?\",\n",
    "       \"What is your theme song and why?\", \"Pirates or ninjas?\",\n",
    "       \"What's something you learned in the last week?\",\n",
    "       \"What's the last book you gave up on and stopped reading?\",\n",
    "       \"What's one place you've travelled that you never want to go back to?\", \n",
    "       \"What's your favorite candy?\", \n",
    "       \"What is one of the great values that guides your life?\",\n",
    "       \"Who was your favorite teacher and why?\",\n",
    "       \"What's something you wish you'd figured out later?\",\n",
    "       \"Have you ever saved someone's life?\",\n",
    "       \"What do you like most about your family?\",\n",
    "       \"What issue will you always speak your mind about?\",\n",
    "       \"Mountains or ocean?\", \n",
    "       \"What story does your family always tell about you?\"]\n",
    "Letter = [\"A\", \"B\", \"C\", \"D\", \"E\", \"F\", \"G\", \"H\", \"I\", \"J\", \"K\",\n",
    "         \"L\", \"M\", \"N\", \"O\", \"P\", \"Q\"]\n",
    "#, \"R\", \"S\", \"T\", \"U\", \"V\", \"W\", \"X\", \"Y\", \"Z\"] List was longer than questions"
   ]
  },
  {
   "cell_type": "code",
   "execution_count": 8,
   "metadata": {},
   "outputs": [
    {
     "name": "stdout",
     "output_type": "stream",
     "text": [
      "['Question A', 'Question B', 'Question C', 'Question D', 'Question E', 'Question F', 'Question G', 'Question H', 'Question I', 'Question J', 'Question K', 'Question L', 'Question M', 'Question N', 'Question O', 'Question P', 'Question Q']\n"
     ]
    }
   ],
   "source": [
    "TaskText = [\"Questions regarding your self-image.\",\n",
    "           \"Answer the following questions concerning your personal preferences.\",\n",
    "           \"Please be honest when answering the following questions.\"]\n",
    "Question = list()\n",
    "for i in range(len(Letter)):\n",
    "    Question.append(\"Question \" + Letter[i])\n",
    "print(Question)"
   ]
  },
  {
   "cell_type": "code",
   "execution_count": 9,
   "metadata": {},
   "outputs": [
    {
     "name": "stdout",
     "output_type": "stream",
     "text": [
      "['Project A', 'Project B', 'Project C']\n"
     ]
    }
   ],
   "source": [
    "Projects = list()\n",
    "for i in range(3):\n",
    "    Projects.append(\"Project \" + Letter[i])\n",
    "print(Projects)"
   ]
  },
  {
   "cell_type": "code",
   "execution_count": 10,
   "metadata": {},
   "outputs": [],
   "source": [
    "Answers = [\"My dog ate my homework\", \"Ofcourse the answer is 42\",\n",
    "          \"I didn't have time\", \"My life is a lie\", \"Cake and eat it too\",\n",
    "          \"I like trains\", \"I never drink too much\", \"I'll study in time\",\n",
    "          \"Even if I fail this, I'll still pass the exam\", \"Please help\",\n",
    "          \"Just give me any sufficient grade for this answer\", \"Do I have to?\",\n",
    "          \"Come on man, just let me have the weekend off\", \"The answer is A\",\n",
    "          \"Because of reasons\", \"Just believe me\", \"Why not?\", \"Just becasue\",\n",
    "          \"No reason to question any of this\", \"It's always those psychologists\",\n",
    "          \"Statistics is fun\", \"Data science is a lame name\", \"SQL, more like SQLife\",\n",
    "          \"Python > SQL\", \"SQL > Python\", \"R rules\", \"SPSS is the worst\"]"
   ]
  },
  {
   "cell_type": "markdown",
   "metadata": {},
   "source": [
    "## Add random items"
   ]
  },
  {
   "cell_type": "code",
   "execution_count": 11,
   "metadata": {},
   "outputs": [],
   "source": [
    "Name = []\n",
    "Email = []\n",
    "for i in range(100):\n",
    "    Name.append(choice(FirstNames) + \" \" + choice(LastNames))\n",
    "    Email.append(choice(FirstNames) + choice(Amail) + choice(Atmail))\n",
    "Name = np.unique(Name).tolist()\n",
    "Email = np.unique(Email).tolist()\n",
    "\n",
    "n_stud = min(len(Name),len(Email))\n",
    "for i in range(n_stud):\n",
    "    Unid = UniID[i]\n",
    "    db.addStudent(name = Name[i], email = Email[i], unid = Unid )"
   ]
  },
  {
   "cell_type": "code",
   "execution_count": 12,
   "metadata": {},
   "outputs": [],
   "source": [
    "for i in range(len(Text)):\n",
    "    Title = \"Question \" + Letter[i]\n",
    "    QText = Text[i]\n",
    "    db.addQuestion( title = Title, text = QText )"
   ]
  },
  {
   "cell_type": "code",
   "execution_count": 13,
   "metadata": {},
   "outputs": [],
   "source": [
    "for i in range(3):\n",
    "    Title = \"Project \" + Letter[i]\n",
    "    Text = TaskText[i]\n",
    "    Questions = list()\n",
    "    for j in range(8):\n",
    "        Questions.append(choice(Question))\n",
    "    Questions = np.unique(Questions).tolist()\n",
    "    db.addTask( title = Title, text = Text, questions = Questions)"
   ]
  },
  {
   "cell_type": "code",
   "execution_count": 14,
   "metadata": {},
   "outputs": [],
   "source": [
    "for i in range(n_stud):\n",
    "    Studentid = UniID[i]\n",
    "    Taskx = choice(Projects)\n",
    "    db.addAssignment( student = Studentid, task = Taskx )"
   ]
  },
  {
   "cell_type": "code",
   "execution_count": 15,
   "metadata": {},
   "outputs": [],
   "source": [
    "for i in range(n_stud):\n",
    "    Studentid = UniID[i]\n",
    "    db.newSubmission( student = Studentid )"
   ]
  },
  {
   "cell_type": "code",
   "execution_count": 16,
   "metadata": {},
   "outputs": [],
   "source": [
    "for i in range(n_stud):\n",
    "    Studentid = UniID[i]\n",
    "    asm = Session.query(gdb.Assignment).filter(gdb.Assignment.UniversityID == Studentid).one()\n",
    "    t = Session.query(gdb.Task).filter(gdb.Task.TaskID == asm.TaskID).one()\n",
    "    q = t.Questions\n",
    "    for j in range(len(q)):\n",
    "        Ans = choice(Answers)\n",
    "        db.addAnswer( student = Studentid, answer = Ans, question = q[j].QuestionID)"
   ]
  },
  {
   "cell_type": "code",
   "execution_count": 17,
   "metadata": {},
   "outputs": [
    {
     "name": "stdout",
     "output_type": "stream",
     "text": [
      "An email will now be sent to the teacher who has to grade submission1\n",
      "An email will now be sent to the teacher who has to grade submission2\n",
      "An email will now be sent to the teacher who has to grade submission3\n",
      "An email will now be sent to the teacher who has to grade submission4\n",
      "An email will now be sent to the teacher who has to grade submission5\n",
      "An email will now be sent to the teacher who has to grade submission6\n",
      "An email will now be sent to the teacher who has to grade submission7\n",
      "An email will now be sent to the teacher who has to grade submission8\n",
      "An email will now be sent to the teacher who has to grade submission9\n",
      "An email will now be sent to the teacher who has to grade submission10\n",
      "An email will now be sent to the teacher who has to grade submission11\n",
      "An email will now be sent to the teacher who has to grade submission12\n",
      "An email will now be sent to the teacher who has to grade submission13\n",
      "An email will now be sent to the teacher who has to grade submission14\n",
      "An email will now be sent to the teacher who has to grade submission15\n",
      "An email will now be sent to the teacher who has to grade submission16\n",
      "An email will now be sent to the teacher who has to grade submission17\n",
      "An email will now be sent to the teacher who has to grade submission18\n",
      "An email will now be sent to the teacher who has to grade submission19\n",
      "An email will now be sent to the teacher who has to grade submission20\n",
      "An email will now be sent to the teacher who has to grade submission21\n",
      "An email will now be sent to the teacher who has to grade submission22\n",
      "An email will now be sent to the teacher who has to grade submission23\n",
      "An email will now be sent to the teacher who has to grade submission24\n",
      "An email will now be sent to the teacher who has to grade submission25\n",
      "An email will now be sent to the teacher who has to grade submission26\n",
      "An email will now be sent to the teacher who has to grade submission27\n",
      "An email will now be sent to the teacher who has to grade submission28\n",
      "An email will now be sent to the teacher who has to grade submission29\n",
      "An email will now be sent to the teacher who has to grade submission30\n",
      "An email will now be sent to the teacher who has to grade submission31\n",
      "An email will now be sent to the teacher who has to grade submission32\n",
      "An email will now be sent to the teacher who has to grade submission33\n",
      "An email will now be sent to the teacher who has to grade submission34\n",
      "An email will now be sent to the teacher who has to grade submission35\n",
      "An email will now be sent to the teacher who has to grade submission36\n",
      "An email will now be sent to the teacher who has to grade submission37\n",
      "An email will now be sent to the teacher who has to grade submission38\n",
      "An email will now be sent to the teacher who has to grade submission39\n",
      "An email will now be sent to the teacher who has to grade submission40\n",
      "An email will now be sent to the teacher who has to grade submission41\n",
      "An email will now be sent to the teacher who has to grade submission42\n",
      "An email will now be sent to the teacher who has to grade submission43\n",
      "An email will now be sent to the teacher who has to grade submission44\n",
      "An email will now be sent to the teacher who has to grade submission45\n",
      "An email will now be sent to the teacher who has to grade submission46\n",
      "An email will now be sent to the teacher who has to grade submission47\n",
      "An email will now be sent to the teacher who has to grade submission48\n",
      "An email will now be sent to the teacher who has to grade submission49\n",
      "An email will now be sent to the teacher who has to grade submission50\n",
      "An email will now be sent to the teacher who has to grade submission51\n",
      "An email will now be sent to the teacher who has to grade submission52\n",
      "An email will now be sent to the teacher who has to grade submission53\n",
      "An email will now be sent to the teacher who has to grade submission54\n",
      "An email will now be sent to the teacher who has to grade submission55\n",
      "An email will now be sent to the teacher who has to grade submission56\n",
      "An email will now be sent to the teacher who has to grade submission57\n",
      "An email will now be sent to the teacher who has to grade submission58\n",
      "An email will now be sent to the teacher who has to grade submission59\n",
      "An email will now be sent to the teacher who has to grade submission60\n",
      "An email will now be sent to the teacher who has to grade submission61\n",
      "An email will now be sent to the teacher who has to grade submission62\n",
      "An email will now be sent to the teacher who has to grade submission63\n",
      "An email will now be sent to the teacher who has to grade submission64\n",
      "An email will now be sent to the teacher who has to grade submission65\n",
      "An email will now be sent to the teacher who has to grade submission66\n",
      "An email will now be sent to the teacher who has to grade submission67\n",
      "An email will now be sent to the teacher who has to grade submission68\n",
      "An email will now be sent to the teacher who has to grade submission69\n",
      "An email will now be sent to the teacher who has to grade submission70\n",
      "An email will now be sent to the teacher who has to grade submission71\n",
      "An email will now be sent to the teacher who has to grade submission72\n",
      "An email will now be sent to the teacher who has to grade submission73\n",
      "An email will now be sent to the teacher who has to grade submission74\n",
      "An email will now be sent to the teacher who has to grade submission75\n",
      "An email will now be sent to the teacher who has to grade submission76\n",
      "An email will now be sent to the teacher who has to grade submission77\n",
      "An email will now be sent to the teacher who has to grade submission78\n",
      "An email will now be sent to the teacher who has to grade submission79\n",
      "An email will now be sent to the teacher who has to grade submission80\n",
      "An email will now be sent to the teacher who has to grade submission81\n",
      "An email will now be sent to the teacher who has to grade submission82\n",
      "An email will now be sent to the teacher who has to grade submission83\n",
      "An email will now be sent to the teacher who has to grade submission84\n",
      "An email will now be sent to the teacher who has to grade submission85\n",
      "An email will now be sent to the teacher who has to grade submission86\n",
      "An email will now be sent to the teacher who has to grade submission87\n",
      "An email will now be sent to the teacher who has to grade submission88\n",
      "An email will now be sent to the teacher who has to grade submission89\n",
      "An email will now be sent to the teacher who has to grade submission90\n",
      "An email will now be sent to the teacher who has to grade submission91\n",
      "An email will now be sent to the teacher who has to grade submission92\n",
      "An email will now be sent to the teacher who has to grade submission93\n"
     ]
    }
   ],
   "source": [
    "for i in range(n_stud):\n",
    "    Studentid = UniID[i]\n",
    "    asm = Session.query(gdb.Assignment).filter(gdb.Assignment.UniversityID == Studentid).one()\n",
    "    sub = Session.query(gdb.Submission).filter(gdb.Submission.AssignmentID == asm.AssignmentID).order_by(gdb.Submission.SubmissionTime).one()\n",
    "    db.commitSubmission( sub.SubmissionID )"
   ]
  },
  {
   "cell_type": "code",
   "execution_count": 18,
   "metadata": {},
   "outputs": [],
   "source": [
    "for i in range(n_stud):\n",
    "    Studentid = UniID[i]\n",
    "    asm = Session.query(gdb.Assignment).filter(gdb.Assignment.UniversityID == Studentid).one()\n",
    "    sub = Session.query(gdb.Submission).filter(gdb.Submission.AssignmentID == asm.AssignmentID).filter(gdb.Submission.EvaluationRequest == True).one()\n",
    "    db.newEvaluation( submission = sub.SubmissionID )"
   ]
  },
  {
   "cell_type": "code",
   "execution_count": 20,
   "metadata": {},
   "outputs": [],
   "source": [
    "for i in range(n_stud):\n",
    "    Studentid = UniID[i]\n",
    "    asm = Session.query(gdb.Assignment).filter(gdb.Assignment.UniversityID == Studentid).one()\n",
    "    sub = Session.query(gdb.Submission).filter(gdb.Submission.AssignmentID == asm.AssignmentID).one()\n",
    "    eval = Session.query(gdb.Evaluation).filter(gdb.Evaluation.SubmissionID == sub.SubmissionID).filter(gdb.Evaluation.EvaluationFinished == False).one()\n",
    "    Ans = Session.query(gdb.Answer).filter(gdb.Answer.SubmissionID == sub.SubmissionID).all()\n",
    "    for i in range(len(Ans)):\n",
    "        grade = random.randint(10,100)/10\n",
    "        db.addScore( value = grade, answer = Ans[i].AnswerID, evaluation = eval.EvaluationID )"
   ]
  },
  {
   "cell_type": "code",
   "execution_count": 27,
   "id": "24a47b9e",
   "metadata": {},
   "outputs": [
    {
     "name": "stdout",
     "output_type": "stream",
     "text": [
      "8.4\n"
     ]
    }
   ],
   "source": [
    "eval = Session.query(gdb.Evaluation).filter(gdb.Evaluation.EvaluationID == 1).one()\n",
    "print(eval.Scores[1].Value)"
   ]
  },
  {
   "cell_type": "code",
   "execution_count": null,
   "metadata": {},
   "outputs": [],
   "source": []
  }
 ],
 "metadata": {
  "kernelspec": {
   "display_name": "Python 3",
   "language": "python",
   "name": "python3"
  },
  "language_info": {
   "codemirror_mode": {
    "name": "ipython",
    "version": 3
   },
   "file_extension": ".py",
   "mimetype": "text/x-python",
   "name": "python",
   "nbconvert_exporter": "python",
   "pygments_lexer": "ipython3",
   "version": "3.9.6"
  }
 },
 "nbformat": 4,
 "nbformat_minor": 5
}
