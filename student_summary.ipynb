{
 "cells": [
  {
   "cell_type": "markdown",
   "id": "f6f28ef8",
   "metadata": {},
   "source": [
    "# Student Summary"
   ]
  },
  {
   "cell_type": "raw",
   "id": "95972919",
   "metadata": {},
   "source": [
    "Notebook with one of the top cells containing an assingment like studentUniId = S123456. For the corresponding student the report should show a general summary important to the student (total grades for evaluated reports, whether submitted reports are pending for evaluation, etc.)"
   ]
  },
  {
   "cell_type": "raw",
   "id": "6d416ba0",
   "metadata": {},
   "source": [
    "for student summary:\n",
    "- studentID\n",
    "- total grades for reports\n",
    "- average? \n",
    "- pending submissions"
   ]
  },
  {
   "cell_type": "code",
   "execution_count": null,
   "id": "ebf2d051",
   "metadata": {},
   "outputs": [],
   "source": [
    "#studentUniId = 'S123456'"
   ]
  },
  {
   "cell_type": "code",
   "execution_count": null,
   "id": "48511702",
   "metadata": {},
   "outputs": [],
   "source": [
    "from sqlalchemy import *"
   ]
  },
  {
   "cell_type": "code",
   "execution_count": null,
   "id": "d396cb5c",
   "metadata": {},
   "outputs": [],
   "source": [
    "#pip install ipython-sql\n",
    "%load_ext sql\n",
    "%sql sqlite:///GradeDB.db"
   ]
  },
  {
   "cell_type": "raw",
   "id": "e08df423",
   "metadata": {},
   "source": [
    "%%sql\n",
    "\n",
    "SELECT \n",
    "    students.UniversityID AS Student, \n",
    "    COUNT(evaluationrequest.submissionId) AS Pending, \n",
    "    COUNT(score.scoreId) AS Grades, \n",
    "    AVG(score.value) AS AverageGrade\n",
    "FROM Students\n",
    "\n",
    "JOIN assignments ON students.universityId = assignments.universityId\n",
    "\n",
    "JOIN submissions ON assignments.assignmentId = submission.assignmentId\n",
    "\n",
    "JOIN evaluationRequest ON submissions.submissionId = evaluationrequest.submissionID\n",
    "\n",
    "JOIN evaluations ON evaluationrequest.evaluationId = evaluations.evaluationId\n",
    "\n",
    "JOIN scores ON evaluations.evaluationId = scores.evaluationID\n",
    "\n",
    "WHERE UniversityID == StudentUniID (actual number needs to be inserted)"
   ]
  }
 ],
 "metadata": {
  "kernelspec": {
   "display_name": "Python 3 (ipykernel)",
   "language": "python",
   "name": "python3"
  },
  "language_info": {
   "codemirror_mode": {
    "name": "ipython",
    "version": 3
   },
   "file_extension": ".py",
   "mimetype": "text/x-python",
   "name": "python",
   "nbconvert_exporter": "python",
   "pygments_lexer": "ipython3",
   "version": "3.9.7"
  }
 },
 "nbformat": 4,
 "nbformat_minor": 5
}
