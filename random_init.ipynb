{
 "cells": [
  {
   "cell_type": "markdown",
   "metadata": {},
   "source": [
    "# Random Init"
   ]
  },
  {
   "cell_type": "raw",
   "metadata": {},
   "source": [
    "Notebook which initializes the database with some (random) content. (please add enough content so the reports below make sense)"
   ]
  },
  {
   "cell_type": "markdown",
   "metadata": {},
   "source": [
    "## SQL alchemy initialize"
   ]
  },
  {
   "cell_type": "code",
   "execution_count": null,
   "metadata": {},
   "outputs": [],
   "source": [
    "import urllib.request    # needed for download of the example database\n",
    "import shutil            # needed for unziping of the example database\n",
    "import os                # for checking existence/removing of a file\n",
    "import sqlalchemy\n",
    "import gradedb_copy as gdb"
   ]
  },
  {
   "cell_type": "code",
   "execution_count": null,
   "metadata": {},
   "outputs": [],
   "source": [
    "from sqlalchemy import create_engine, Column, Integer, String, ForeignKey, MetaData\n",
    "from sqlalchemy.orm import relationship, sessionmaker\n",
    "from sqlalchemy.ext.declarative import declarative_base"
   ]
  },
  {
   "cell_type": "code",
   "execution_count": null,
   "metadata": {},
   "outputs": [],
   "source": [
    "from random import choice, randint\n",
    "import random\n",
    "import numpy as np"
   ]
  },
  {
   "cell_type": "code",
   "execution_count": null,
   "metadata": {},
   "outputs": [],
   "source": [
    "engine = create_engine(\"sqlite:///GradeDB.db\",echo=False)\n",
    "sessionMaker = sessionmaker(bind=engine)\n",
    "Session = sessionMaker()"
   ]
  },
  {
   "cell_type": "code",
   "execution_count": null,
   "metadata": {},
   "outputs": [],
   "source": [
    "db = gdb.GradeDB(\"GradeDB.db\")"
   ]
  },
  {
   "cell_type": "markdown",
   "metadata": {},
   "source": [
    "## Lists"
   ]
  },
  {
   "cell_type": "code",
   "execution_count": null,
   "metadata": {},
   "outputs": [],
   "source": [
    "FirstNames = ['David', \"John\", \"Paul\", \"Mark\", \"James\", \"Andrew\", \"Scott\", \n",
    "              \"Steven\", \"Robert\", \"Stephen\", \"William\", \"Craig\", \"Michael\",\n",
    "              \"Stuart\", \"Christopher\", \"Alan\", \"Colin\", \"Brian\", \"Kevin\",\n",
    "              \"Gary\", \"Richard\", \"Derek\", \"Martin\", \"Thomas\", \"Neil\", \"Barry\",\n",
    "              \"Ian\", \"Jason\", \"Iain\", \"Gordon\", \"Alexander\", \"Graeme\", \"Peter\"]\n",
    "LastNames = [\"JOHNSON\", \"WILLIAMS\", \"BROWN\", \"JONES\", \"GARCIA\", \"MILLER\", \"DAVIS\"\n",
    "             \"RODRIGUEZ\", \"MARTINEZ\", \"HERNANDEZ\", \"LOPEZ\", \"GONZALEZ\", \"WILSON\",\n",
    "             \"ANDERSON\", \"THOMAS\", \"TAYLOR\", \"MOORE\", \"JACKSON\", \"MARTIN\", \"LEE\", \n",
    "             \"PEREZ\", \"THOMPSON\", \"WHITE\", \"HARRIS\", \"SANCHEZ\", \"CLARK\", \"RAMIREZ\"\n",
    "             \"LEWIS\", \"ROBINSON\", \"WALKER\", \"YOUNG\", \"ALLEN\", \"KING\", \"WRIGHT\", \"JANSEN\"]\n",
    "Amail = [\".cooldude\", \"_xxx\", \"gamerlord\", \".127473\", \"herro\", \"master\", \".sweety\", \"_luv_u\",\n",
    "        \".lets.go\", \".mymail\", \"uni\", \"_xXxhardcore\", \".blabla\", \"12247\", \".123\", \"17343\",\n",
    "        \"_121\", \"38568965\", \"98\", \"_97\"]\n",
    "Atmail = [\"@gmail.com\", \"@outlook.com\", \"@icloud.com\", \"@hotmail.com\", \"@yahoo.com\",\n",
    "         \"@umail.leidenuniv.nl\"]\n",
    "UniID = [914542, 474164, 872801, 23883, 490595, 402933, 853644, 678145, \n",
    "         384583, 906267, 760047, 828722, 19979, 519533, 613745, 749424, \n",
    "         282311, 38169, 706727, 560551, 799839, 744692, 16785, 163253, \n",
    "         898979, 644538, 203977, 466995, 365930, 258886, 382302, 178408, \n",
    "         456059, 371680, 514837, 329449, 531103, 6584, 699763, 354161, \n",
    "         349891, 525024, 814968, 373456, 518193, 915653, 410380, 614531, \n",
    "         285498, 173967, 336671, 884170, 791537, 994530, 913624, 915356, \n",
    "         471475, 305163, 643865, 551569, 35995, 484675, 842517, 426822, \n",
    "         288068, 767860, 839263, 408265, 32128, 125715, 944783, 110588, \n",
    "         623055, 645582, 523808, 709822, 59036, 973125, 716298, 380023, \n",
    "         968929, 699637, 339254, 623639, 198997, 614304, 252185, 76282, \n",
    "         266719, 380516, 822963, 266730, 623826, 341434, 873637, 402527, \n",
    "         986359, 124282, 660431, 554215]"
   ]
  },
  {
   "cell_type": "code",
   "execution_count": null,
   "metadata": {},
   "outputs": [],
   "source": [
    "Text = [\"What's something you wish you'd figured out sooner?\", \n",
    "       \"Who are some of your heroes?\", \n",
    "       \"In your group of friends, what role do you play?\",\n",
    "       \"What is your theme song and why?\", \"Pirates or ninjas?\",\n",
    "       \"What's something you learned in the last week?\",\n",
    "       \"What's the last book you gave up on and stopped reading?\",\n",
    "       \"What's one place you've travelled that you never want to go back to?\", \n",
    "       \"What's your favorite candy?\", \n",
    "       \"What is one of the great values that guides your life?\",\n",
    "       \"Who was your favorite teacher and why?\",\n",
    "       \"What's something you wish you'd figured out sooner?\",\n",
    "       \"Have you ever saved someone's life?\",\n",
    "       \"What do you like most about your family?\",\n",
    "       \"What issue will you always speak your mind about?\",\n",
    "       \"Mountains or ocean?\", \n",
    "       \"What story does your family always tell about you?\"]\n",
    "Letter = [\"A\", \"B\", \"C\", \"D\", \"E\", \"F\", \"G\", \"H\", \"I\", \"J\", \"K\",\n",
    "         \"L\", \"M\", \"N\", \"O\", \"P\", \"Q\"]\n",
    "#, \"R\", \"S\", \"T\", \"U\", \"V\", \"W\", \"X\", \"Y\", \"Z\"] List was longer than questions"
   ]
  },
  {
   "cell_type": "code",
   "execution_count": null,
   "metadata": {},
   "outputs": [],
   "source": [
    "TaskText = [\"Questions regarding your self-image.\",\n",
    "           \"Answer the following questions concerning your personal preferences.\",\n",
    "           \"Please be honest when answering the following questions.\"]\n",
    "Question = list()\n",
    "for i in range(len(Letter)):\n",
    "    Question.append(\"Question \" + Letter[i])\n",
    "print(Question)"
   ]
  },
  {
   "cell_type": "code",
   "execution_count": null,
   "metadata": {},
   "outputs": [],
   "source": [
    "Projects = list()\n",
    "for i in range(3):\n",
    "    Projects.append(\"Project \" + Letter[i])\n",
    "print(Projects)"
   ]
  },
  {
   "cell_type": "code",
   "execution_count": null,
   "metadata": {},
   "outputs": [],
   "source": [
    "Answers = [\"My dog ate my homework\", \"Ofcourse the answer is 42\",\n",
    "          \"I didn't have time\", \"My life is a lie\", \"Cake and eat it too\",\n",
    "          \"I like trains\", \"I never drink too much\", \"I'll study in time\",\n",
    "          \"Even if I fail this, I'll still pass the exam\", \"Please help\",\n",
    "          \"Just give me any sufficient grade for this answer\", \"Do I have to?\",\n",
    "          \"Come on man, just let me have the weekend off\", \"The answer is A\",\n",
    "          \"Because of reasons\", \"Just believe me\", \"Why not?\", \"Just becasue\",\n",
    "          \"No reason to question any of this\", \"It's always those psychologists\",\n",
    "          \"Statistics is fun\", \"Data science is a lame name\", \"SQL, more like SQLife\",\n",
    "          \"Python > SQL\", \"SQL > Python\", \"R rules\", \"SPSS is the worst\"]"
   ]
  },
  {
   "cell_type": "code",
   "execution_count": null,
   "metadata": {},
   "outputs": [],
   "source": [
    "sqlalchemy.__version__"
   ]
  },
  {
   "cell_type": "markdown",
   "metadata": {},
   "source": [
    "## Add random items"
   ]
  },
  {
   "cell_type": "code",
   "execution_count": null,
   "metadata": {},
   "outputs": [],
   "source": [
    "Name = []\n",
    "Email = []\n",
    "for i in range(100):\n",
    "    Name.append(choice(FirstNames) + \" \" + choice(LastNames))\n",
    "    Email.append(choice(FirstNames) + choice(Amail) + choice(Atmail))\n",
    "Name = np.unique(Name).tolist()\n",
    "Email = np.unique(Email).tolist()\n",
    "\n",
    "n_stud = min(len(Name),len(Email))\n",
    "for i in range(n_stud):\n",
    "    Unid = UniID[i]\n",
    "    db.addStudent(name = Name[i], email = Email[i], unid = Unid )"
   ]
  },
  {
   "cell_type": "code",
   "execution_count": null,
   "metadata": {},
   "outputs": [],
   "source": [
    "for i in range(len(Text)):\n",
    "    Title = \"Question \" + Letter[i]\n",
    "    QText = Text[i]\n",
    "    print(QText)\n",
    "    db.addQuestion( title = Title, text = QText )"
   ]
  },
  {
   "cell_type": "code",
   "execution_count": null,
   "metadata": {},
   "outputs": [],
   "source": [
    "for i in range(3):\n",
    "    Title = \"Project \" + Letter[i]\n",
    "    Text = TaskText[i]\n",
    "    Questions = list()\n",
    "    for j in range(8):\n",
    "        Questions.append(choice(Question))\n",
    "    Questions = np.unique(Questions).tolist()\n",
    "    db.addTask( title = Title, text = Text, questions = Questions)"
   ]
  },
  {
   "cell_type": "code",
   "execution_count": null,
   "metadata": {},
   "outputs": [],
   "source": [
    "for i in range(n_stud):\n",
    "    Studentid = UniID[i]\n",
    "    Taskx = choice(Projects)\n",
    "    db.addAssignment( student = Studentid, task = Taskx )"
   ]
  },
  {
   "cell_type": "code",
   "execution_count": null,
   "metadata": {},
   "outputs": [],
   "source": [
    "for i in range(n_stud):\n",
    "    Studentid = UniID[i]\n",
    "    db.newSubmission( student = Studentid )"
   ]
  },
  {
   "cell_type": "code",
   "execution_count": null,
   "metadata": {},
   "outputs": [],
   "source": [
    "for i in range(n_stud):\n",
    "    Studentid = UniID[i]\n",
    "    asm = Session.query(gdb.Assignment).filter(gdb.Assignment.UniversityID == Studentid).one()\n",
    "    t = Session.query(gdb.Task).filter(gdb.Task.TaskID == asm.TaskID).one()\n",
    "    Qs = t.Questions\n",
    "    print(Qs)\n",
    "    for j in Qs:\n",
    "        Ans = choice(Answers)\n",
    "        db.addAnswer( student = Studentid, answer = Ans, ques = j)"
   ]
  },
  {
   "cell_type": "code",
   "execution_count": null,
   "metadata": {},
   "outputs": [],
   "source": [
    "for i in range(n_stud):\n",
    "    Studentid = UniID[i]\n",
    "    asm = Session.query(gdb.Assignment).filter(gdb.Assignment.UniversityID == Studentid).one()\n",
    "    sub = Session.query(gdb.Submission).filter(gdb.Submission.AssignmentID == asm.AssignmentID).order_by(gdb.Submission.DateTime, descending).one()\n",
    "    db.commitSubmission( sub.SubmissionID )"
   ]
  },
  {
   "cell_type": "code",
   "execution_count": null,
   "metadata": {},
   "outputs": [],
   "source": [
    "for i in range(n_stud):\n",
    "    Studentid = UniID[i]\n",
    "    asm = Session.query(gdb.Assignment).filter(gdb.Assignment.UniversityID == Studentid).one()\n",
    "    sub = Session.query(gdb.Submission).filter(gdb.Submission.AssignmentID == asm.AssignmentID).filter(gdb.Submission.EvaluationRequest == True).one()\n",
    "    evrq = Session.query(gdb.EvaluationRequest).filter(gdb.EvaluationRequest.SubmissionID == sub.SubmissionID).one()\n",
    "    db.addEvaluation( request = evrq )"
   ]
  },
  {
   "cell_type": "code",
   "execution_count": null,
   "metadata": {},
   "outputs": [],
   "source": [
    "for i in range(n_stud):\n",
    "    Studentid = UniID[i]\n",
    "    asm = Session.query(gdb.Assignment).filter(gdb.Assignment.UniversityID == Studentid).one()\n",
    "    sub = Session.query(gdb.Submission).filter(gdb.Submission.AssignmentID == asm.AssignmentID).filter(gdb.EvaluationRequest != None).one()\n",
    "    evrq = Session.query(gdb.EvaluationRequest).filter(gdb.EvaluationRequest.SubmissionID == sub.SubmissionID).one()\n",
    "    Ans = Session.query(gdb.Answer).filter(gdb.Answer.SubmissionID == sub.SubmissionID).all()\n",
    "    for A in Ans.AnswerID:\n",
    "        grade = random.randint(0,100)/10\n",
    "        db.addScore( Answer = A, Value = grade, Evaluation = evrq.EvaluationID )"
   ]
  }
 ],
 "metadata": {
  "kernelspec": {
   "display_name": "Python 3",
   "language": "python",
   "name": "python3"
  },
  "language_info": {
   "codemirror_mode": {
    "name": "ipython",
    "version": 3
   },
   "file_extension": ".py",
   "mimetype": "text/x-python",
   "name": "python",
   "nbconvert_exporter": "python",
   "pygments_lexer": "ipython3",
   "version": "3.7.3"
  }
 },
 "nbformat": 4,
 "nbformat_minor": 5
}
