{
 "cells": [
  {
   "cell_type": "markdown",
   "id": "7f5e8684",
   "metadata": {},
   "source": [
    "# Random Init"
   ]
  },
  {
   "cell_type": "raw",
   "id": "d97cde4d",
   "metadata": {},
   "source": [
    "Notebook which initializes the database with some (random) content. (please add enough content so the reports below make sense)"
   ]
  }
 ],
 "metadata": {
  "kernelspec": {
   "display_name": "Python 3 (ipykernel)",
   "language": "python",
   "name": "python3"
  },
  "language_info": {
   "codemirror_mode": {
    "name": "ipython",
    "version": 3
   },
   "file_extension": ".py",
   "mimetype": "text/x-python",
   "name": "python",
   "nbconvert_exporter": "python",
   "pygments_lexer": "ipython3",
   "version": "3.9.7"
  }
 },
 "nbformat": 4,
 "nbformat_minor": 5
}
