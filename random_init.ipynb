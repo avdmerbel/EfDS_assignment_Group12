{
 "cells": [
  {
   "cell_type": "markdown",
   "metadata": {},
   "source": [
    "# Random Init"
   ]
  },
  {
   "cell_type": "raw",
   "metadata": {},
   "source": [
    "Notebook which initializes the database with some (random) content. (please add enough content so the reports below make sense)"
   ]
  },
  {
   "cell_type": "markdown",
   "metadata": {},
   "source": [
    "## SQL alchemy initialize"
   ]
  },
  {
   "cell_type": "code",
   "execution_count": 1,
   "metadata": {},
   "outputs": [],
   "source": [
    "import urllib.request    # needed for download of the example database\n",
    "import shutil            # needed for unziping of the example database\n",
    "import os                # for checking existence/removing of a file\n",
    "import sqlalchemy\n",
    "import gradedb_copy as gdb"
   ]
  },
  {
   "cell_type": "code",
   "execution_count": 2,
   "metadata": {},
   "outputs": [],
   "source": [
    "from sqlalchemy import create_engine, Column, Integer, String, ForeignKey, MetaData\n",
    "from sqlalchemy.orm import relationship, sessionmaker\n",
    "from sqlalchemy.ext.declarative import declarative_base"
   ]
  },
  {
   "cell_type": "code",
   "execution_count": 3,
   "metadata": {},
   "outputs": [],
   "source": [
    "from random import choice, randint\n",
    "import random\n",
    "import numpy as np"
   ]
  },
  {
   "cell_type": "code",
   "execution_count": 22,
   "metadata": {},
   "outputs": [],
   "source": [
    "engine = create_engine(\"sqlite:///GradeDB.db\",echo=False)\n",
    "sessionMaker = sessionmaker(bind=engine)\n",
    "Session = sessionMaker()"
   ]
  },
  {
   "cell_type": "code",
   "execution_count": 5,
   "metadata": {},
   "outputs": [],
   "source": [
    "db = gdb.GradeDB(\"GradeDB.db\")"
   ]
  },
  {
   "cell_type": "markdown",
   "metadata": {},
   "source": [
    "## Lists"
   ]
  },
  {
   "cell_type": "code",
   "execution_count": 6,
   "metadata": {},
   "outputs": [],
   "source": [
    "FirstNames = ['David', \"John\", \"Paul\", \"Mark\", \"James\", \"Andrew\", \"Scott\", \n",
    "              \"Steven\", \"Robert\", \"Stephen\", \"William\", \"Craig\", \"Michael\",\n",
    "              \"Stuart\", \"Christopher\", \"Alan\", \"Colin\", \"Brian\", \"Kevin\",\n",
    "              \"Gary\", \"Richard\", \"Derek\", \"Martin\", \"Thomas\", \"Neil\", \"Barry\",\n",
    "              \"Ian\", \"Jason\", \"Iain\", \"Gordon\", \"Alexander\", \"Graeme\", \"Peter\"]\n",
    "LastNames = [\"JOHNSON\", \"WILLIAMS\", \"BROWN\", \"JONES\", \"GARCIA\", \"MILLER\", \"DAVIS\"\n",
    "             \"RODRIGUEZ\", \"MARTINEZ\", \"HERNANDEZ\", \"LOPEZ\", \"GONZALEZ\", \"WILSON\",\n",
    "             \"ANDERSON\", \"THOMAS\", \"TAYLOR\", \"MOORE\", \"JACKSON\", \"MARTIN\", \"LEE\", \n",
    "             \"PEREZ\", \"THOMPSON\", \"WHITE\", \"HARRIS\", \"SANCHEZ\", \"CLARK\", \"RAMIREZ\"\n",
    "             \"LEWIS\", \"ROBINSON\", \"WALKER\", \"YOUNG\", \"ALLEN\", \"KING\", \"WRIGHT\", \"JANSEN\"]\n",
    "Amail = [\".cooldude\", \"_xxx\", \"gamerlord\", \".127473\", \"herro\", \"master\", \".sweety\", \"_luv_u\",\n",
    "        \".lets.go\", \".mymail\", \"uni\", \"_xXxhardcore\", \".blabla\", \"12247\", \".123\", \"17343\",\n",
    "        \"_121\", \"38568965\", \"98\", \"_97\"]\n",
    "Atmail = [\"@gmail.com\", \"@outlook.com\", \"@icloud.com\", \"@hotmail.com\", \"@yahoo.com\",\n",
    "         \"@umail.leidenuniv.nl\"]\n",
    "UniID = [914542, 474164, 872801, 23883, 490595, 402933, 853644, 678145, \n",
    "         384583, 906267, 760047, 828722, 19979, 519533, 613745, 749424, \n",
    "         282311, 38169, 706727, 560551, 799839, 744692, 16785, 163253, \n",
    "         898979, 644538, 203977, 466995, 365930, 258886, 382302, 178408, \n",
    "         456059, 371680, 514837, 329449, 531103, 6584, 699763, 354161, \n",
    "         349891, 525024, 814968, 373456, 518193, 915653, 410380, 614531, \n",
    "         285498, 173967, 336671, 884170, 791537, 994530, 913624, 915356, \n",
    "         471475, 305163, 643865, 551569, 35995, 484675, 842517, 426822, \n",
    "         288068, 767860, 839263, 408265, 32128, 125715, 944783, 110588, \n",
    "         623055, 645582, 523808, 709822, 59036, 973125, 716298, 380023, \n",
    "         968929, 699637, 339254, 623639, 198997, 614304, 252185, 76282, \n",
    "         266719, 380516, 822963, 266730, 623826, 341434, 873637, 402527, \n",
    "         986359, 124282, 660431, 554215]"
   ]
  },
  {
   "cell_type": "code",
   "execution_count": 7,
   "metadata": {},
   "outputs": [],
   "source": [
    "Text = [\"What's something you wish you'd figured out sooner?\", \n",
    "       \"Who are some of your heroes?\", \n",
    "       \"In your group of friends, what role do you play?\",\n",
    "       \"What is your theme song and why?\", \"Pirates or ninjas?\",\n",
    "       \"What's something you learned in the last week?\",\n",
    "       \"What's the last book you gave up on and stopped reading?\",\n",
    "       \"What's one place you've travelled that you never want to go back to?\", \n",
    "       \"What's your favorite candy?\", \n",
    "       \"What is one of the great values that guides your life?\",\n",
    "       \"Who was your favorite teacher and why?\",\n",
    "       \"What's something you wish you'd figured out sooner?\",\n",
    "       \"Have you ever saved someone's life?\",\n",
    "       \"What do you like most about your family?\",\n",
    "       \"What issue will you always speak your mind about?\",\n",
    "       \"Mountains or ocean?\", \n",
    "       \"What story does your family always tell about you?\"]\n",
    "Letter = [\"A\", \"B\", \"C\", \"D\", \"E\", \"F\", \"G\", \"H\", \"I\", \"J\", \"K\",\n",
    "         \"L\", \"M\", \"N\", \"O\", \"P\", \"Q\"]\n",
    "#, \"R\", \"S\", \"T\", \"U\", \"V\", \"W\", \"X\", \"Y\", \"Z\"] List was longer than questions"
   ]
  },
  {
   "cell_type": "code",
   "execution_count": 8,
   "metadata": {},
   "outputs": [
    {
     "name": "stdout",
     "output_type": "stream",
     "text": [
      "['Question A', 'Question B', 'Question C', 'Question D', 'Question E', 'Question F', 'Question G', 'Question H', 'Question I', 'Question J', 'Question K', 'Question L', 'Question M', 'Question N', 'Question O', 'Question P', 'Question Q']\n"
     ]
    }
   ],
   "source": [
    "TaskText = [\"Questions regarding your self-image.\",\n",
    "           \"Answer the following questions concerning your personal preferences.\",\n",
    "           \"Please be honest when answering the following questions.\"]\n",
    "Question = list()\n",
    "for i in range(len(Letter)):\n",
    "    Question.append(\"Question \" + Letter[i])\n",
    "print(Question)"
   ]
  },
  {
   "cell_type": "code",
   "execution_count": 9,
   "metadata": {},
   "outputs": [
    {
     "name": "stdout",
     "output_type": "stream",
     "text": [
      "['Project A', 'Project B', 'Project C']\n"
     ]
    }
   ],
   "source": [
    "Projects = list()\n",
    "for i in range(3):\n",
    "    Projects.append(\"Project \" + Letter[i])\n",
    "print(Projects)"
   ]
  },
  {
   "cell_type": "code",
   "execution_count": 10,
   "metadata": {},
   "outputs": [],
   "source": [
    "Answers = [\"My dog ate my homework\", \"Ofcourse the answer is 42\",\n",
    "          \"I didn't have time\", \"My life is a lie\", \"Cake and eat it too\",\n",
    "          \"I like trains\", \"I never drink too much\", \"I'll study in time\",\n",
    "          \"Even if I fail this, I'll still pass the exam\", \"Please help\",\n",
    "          \"Just give me any sufficient grade for this answer\", \"Do I have to?\",\n",
    "          \"Come on man, just let me have the weekend off\", \"The answer is A\",\n",
    "          \"Because of reasons\", \"Just believe me\", \"Why not?\", \"Just becasue\",\n",
    "          \"No reason to question any of this\", \"It's always those psychologists\",\n",
    "          \"Statistics is fun\", \"Data science is a lame name\", \"SQL, more like SQLife\",\n",
    "          \"Python > SQL\", \"SQL > Python\", \"R rules\", \"SPSS is the worst\"]"
   ]
  },
  {
   "cell_type": "code",
   "execution_count": 11,
   "metadata": {},
   "outputs": [
    {
     "data": {
      "text/plain": [
       "'1.3.1'"
      ]
     },
     "execution_count": 11,
     "metadata": {},
     "output_type": "execute_result"
    }
   ],
   "source": [
    "sqlalchemy.__version__"
   ]
  },
  {
   "cell_type": "markdown",
   "metadata": {},
   "source": [
    "## Add random items"
   ]
  },
  {
   "cell_type": "code",
   "execution_count": 12,
   "metadata": {},
   "outputs": [
    {
     "ename": "AttributeError",
     "evalue": "__enter__",
     "output_type": "error",
     "traceback": [
      "\u001b[1;31m---------------------------------------------------------------------------\u001b[0m",
      "\u001b[1;31mAttributeError\u001b[0m                            Traceback (most recent call last)",
      "\u001b[1;32m<ipython-input-12-9e9a4aee37be>\u001b[0m in \u001b[0;36m<module>\u001b[1;34m\u001b[0m\n\u001b[0;32m     10\u001b[0m \u001b[1;32mfor\u001b[0m \u001b[0mi\u001b[0m \u001b[1;32min\u001b[0m \u001b[0mrange\u001b[0m\u001b[1;33m(\u001b[0m\u001b[0mn_stud\u001b[0m\u001b[1;33m)\u001b[0m\u001b[1;33m:\u001b[0m\u001b[1;33m\u001b[0m\u001b[1;33m\u001b[0m\u001b[0m\n\u001b[0;32m     11\u001b[0m     \u001b[0mUnid\u001b[0m \u001b[1;33m=\u001b[0m \u001b[0mUniID\u001b[0m\u001b[1;33m[\u001b[0m\u001b[0mi\u001b[0m\u001b[1;33m]\u001b[0m\u001b[1;33m\u001b[0m\u001b[1;33m\u001b[0m\u001b[0m\n\u001b[1;32m---> 12\u001b[1;33m     \u001b[0mdb\u001b[0m\u001b[1;33m.\u001b[0m\u001b[0maddStudent\u001b[0m\u001b[1;33m(\u001b[0m\u001b[0mname\u001b[0m \u001b[1;33m=\u001b[0m \u001b[0mName\u001b[0m\u001b[1;33m[\u001b[0m\u001b[0mi\u001b[0m\u001b[1;33m]\u001b[0m\u001b[1;33m,\u001b[0m \u001b[0memail\u001b[0m \u001b[1;33m=\u001b[0m \u001b[0mEmail\u001b[0m\u001b[1;33m[\u001b[0m\u001b[0mi\u001b[0m\u001b[1;33m]\u001b[0m\u001b[1;33m,\u001b[0m \u001b[0munid\u001b[0m \u001b[1;33m=\u001b[0m \u001b[0mUnid\u001b[0m \u001b[1;33m)\u001b[0m\u001b[1;33m\u001b[0m\u001b[1;33m\u001b[0m\u001b[0m\n\u001b[0m",
      "\u001b[1;32m~\\Desktop\\SQL_assignment\\gradedb_copy.py\u001b[0m in \u001b[0;36maddStudent\u001b[1;34m(self, name, email, unid)\u001b[0m\n\u001b[0;32m    119\u001b[0m       \u001b[0mprint\u001b[0m\u001b[1;33m(\u001b[0m\u001b[1;34m'This is not a valid email address.'\u001b[0m\u001b[1;33m)\u001b[0m\u001b[1;33m\u001b[0m\u001b[1;33m\u001b[0m\u001b[0m\n\u001b[0;32m    120\u001b[0m       \u001b[1;32mreturn\u001b[0m\u001b[1;33m\u001b[0m\u001b[1;33m\u001b[0m\u001b[0m\n\u001b[1;32m--> 121\u001b[1;33m     \u001b[1;32mwith\u001b[0m \u001b[0mself\u001b[0m\u001b[1;33m.\u001b[0m\u001b[0mnewSession\u001b[0m\u001b[1;33m(\u001b[0m\u001b[1;33m)\u001b[0m \u001b[1;32mas\u001b[0m \u001b[0mses\u001b[0m\u001b[1;33m:\u001b[0m\u001b[1;33m\u001b[0m\u001b[1;33m\u001b[0m\u001b[0m\n\u001b[0m\u001b[0;32m    122\u001b[0m       \u001b[0mstud\u001b[0m \u001b[1;33m=\u001b[0m \u001b[0mStudent\u001b[0m\u001b[1;33m(\u001b[0m\u001b[0mName\u001b[0m \u001b[1;33m=\u001b[0m \u001b[0mname\u001b[0m\u001b[1;33m,\u001b[0m \u001b[0mEmail\u001b[0m \u001b[1;33m=\u001b[0m \u001b[0memail\u001b[0m\u001b[1;33m,\u001b[0m \u001b[0mUniversityID\u001b[0m \u001b[1;33m=\u001b[0m \u001b[0munid\u001b[0m\u001b[1;33m)\u001b[0m\u001b[1;33m\u001b[0m\u001b[1;33m\u001b[0m\u001b[0m\n\u001b[0;32m    123\u001b[0m       \u001b[0mses\u001b[0m\u001b[1;33m.\u001b[0m\u001b[0madd\u001b[0m\u001b[1;33m(\u001b[0m \u001b[0mstud\u001b[0m \u001b[1;33m)\u001b[0m\u001b[1;33m\u001b[0m\u001b[1;33m\u001b[0m\u001b[0m\n",
      "\u001b[1;31mAttributeError\u001b[0m: __enter__"
     ]
    }
   ],
   "source": [
    "Name = []\n",
    "Email = []\n",
    "for i in range(100):\n",
    "    Name.append(choice(FirstNames) + \" \" + choice(LastNames))\n",
    "    Email.append(choice(FirstNames) + choice(Amail) + choice(Atmail))\n",
    "Name = np.unique(Name).tolist()\n",
    "Email = np.unique(Email).tolist()\n",
    "\n",
    "n_stud = min(len(Name),len(Email))\n",
    "for i in range(n_stud):\n",
    "    Unid = UniID[i]\n",
    "    db.addStudent(name = Name[i], email = Email[i], unid = Unid )"
   ]
  },
  {
   "cell_type": "code",
   "execution_count": 13,
   "metadata": {},
   "outputs": [
    {
     "name": "stdout",
     "output_type": "stream",
     "text": [
      "What's something you wish you'd figured out sooner?\n"
     ]
    },
    {
     "ename": "AttributeError",
     "evalue": "__enter__",
     "output_type": "error",
     "traceback": [
      "\u001b[1;31m---------------------------------------------------------------------------\u001b[0m",
      "\u001b[1;31mAttributeError\u001b[0m                            Traceback (most recent call last)",
      "\u001b[1;32m<ipython-input-13-36a4fd7eaf6f>\u001b[0m in \u001b[0;36m<module>\u001b[1;34m\u001b[0m\n\u001b[0;32m      3\u001b[0m     \u001b[0mQText\u001b[0m \u001b[1;33m=\u001b[0m \u001b[0mText\u001b[0m\u001b[1;33m[\u001b[0m\u001b[0mi\u001b[0m\u001b[1;33m]\u001b[0m\u001b[1;33m\u001b[0m\u001b[1;33m\u001b[0m\u001b[0m\n\u001b[0;32m      4\u001b[0m     \u001b[0mprint\u001b[0m\u001b[1;33m(\u001b[0m\u001b[0mQText\u001b[0m\u001b[1;33m)\u001b[0m\u001b[1;33m\u001b[0m\u001b[1;33m\u001b[0m\u001b[0m\n\u001b[1;32m----> 5\u001b[1;33m     \u001b[0mdb\u001b[0m\u001b[1;33m.\u001b[0m\u001b[0maddQuestion\u001b[0m\u001b[1;33m(\u001b[0m \u001b[0mtitle\u001b[0m \u001b[1;33m=\u001b[0m \u001b[0mTitle\u001b[0m\u001b[1;33m,\u001b[0m \u001b[0mtext\u001b[0m \u001b[1;33m=\u001b[0m \u001b[0mQText\u001b[0m \u001b[1;33m)\u001b[0m\u001b[1;33m\u001b[0m\u001b[1;33m\u001b[0m\u001b[0m\n\u001b[0m",
      "\u001b[1;32m~\\Desktop\\SQL_assignment\\gradedb_copy.py\u001b[0m in \u001b[0;36maddQuestion\u001b[1;34m(self, title, text)\u001b[0m\n\u001b[0;32m    132\u001b[0m       \u001b[1;31m#print('This is not a valid question.')\u001b[0m\u001b[1;33m\u001b[0m\u001b[1;33m\u001b[0m\u001b[1;33m\u001b[0m\u001b[0m\n\u001b[0;32m    133\u001b[0m       \u001b[1;31m#return\u001b[0m\u001b[1;33m\u001b[0m\u001b[1;33m\u001b[0m\u001b[1;33m\u001b[0m\u001b[0m\n\u001b[1;32m--> 134\u001b[1;33m     \u001b[1;32mwith\u001b[0m \u001b[0mself\u001b[0m\u001b[1;33m.\u001b[0m\u001b[0mnewSession\u001b[0m\u001b[1;33m(\u001b[0m\u001b[1;33m)\u001b[0m \u001b[1;32mas\u001b[0m \u001b[0mses\u001b[0m\u001b[1;33m:\u001b[0m\u001b[1;33m\u001b[0m\u001b[1;33m\u001b[0m\u001b[0m\n\u001b[0m\u001b[0;32m    135\u001b[0m       \u001b[0mnq\u001b[0m \u001b[1;33m=\u001b[0m \u001b[0mQuestion\u001b[0m\u001b[1;33m(\u001b[0m\u001b[0mTitle\u001b[0m \u001b[1;33m=\u001b[0m \u001b[0mtitle\u001b[0m\u001b[1;33m,\u001b[0m \u001b[0mText\u001b[0m \u001b[1;33m=\u001b[0m \u001b[0mtext\u001b[0m\u001b[1;33m)\u001b[0m\u001b[1;33m\u001b[0m\u001b[1;33m\u001b[0m\u001b[0m\n\u001b[0;32m    136\u001b[0m       \u001b[0mses\u001b[0m\u001b[1;33m.\u001b[0m\u001b[0madd\u001b[0m\u001b[1;33m(\u001b[0m \u001b[0mnq\u001b[0m \u001b[1;33m)\u001b[0m\u001b[1;33m\u001b[0m\u001b[1;33m\u001b[0m\u001b[0m\n",
      "\u001b[1;31mAttributeError\u001b[0m: __enter__"
     ]
    }
   ],
   "source": [
    "for i in range(len(Text)):\n",
    "    Title = \"Question \" + Letter[i]\n",
    "    QText = Text[i]\n",
    "    print(QText)\n",
    "    db.addQuestion( title = Title, text = QText )"
   ]
  },
  {
   "cell_type": "code",
   "execution_count": 14,
   "metadata": {},
   "outputs": [
    {
     "ename": "AttributeError",
     "evalue": "__enter__",
     "output_type": "error",
     "traceback": [
      "\u001b[1;31m---------------------------------------------------------------------------\u001b[0m",
      "\u001b[1;31mAttributeError\u001b[0m                            Traceback (most recent call last)",
      "\u001b[1;32m<ipython-input-14-8ae6ce950080>\u001b[0m in \u001b[0;36m<module>\u001b[1;34m\u001b[0m\n\u001b[0;32m      6\u001b[0m         \u001b[0mQuestions\u001b[0m\u001b[1;33m.\u001b[0m\u001b[0mappend\u001b[0m\u001b[1;33m(\u001b[0m\u001b[0mchoice\u001b[0m\u001b[1;33m(\u001b[0m\u001b[0mQuestion\u001b[0m\u001b[1;33m)\u001b[0m\u001b[1;33m)\u001b[0m\u001b[1;33m\u001b[0m\u001b[1;33m\u001b[0m\u001b[0m\n\u001b[0;32m      7\u001b[0m     \u001b[0mQuestions\u001b[0m \u001b[1;33m=\u001b[0m \u001b[0mnp\u001b[0m\u001b[1;33m.\u001b[0m\u001b[0munique\u001b[0m\u001b[1;33m(\u001b[0m\u001b[0mQuestions\u001b[0m\u001b[1;33m)\u001b[0m\u001b[1;33m.\u001b[0m\u001b[0mtolist\u001b[0m\u001b[1;33m(\u001b[0m\u001b[1;33m)\u001b[0m\u001b[1;33m\u001b[0m\u001b[1;33m\u001b[0m\u001b[0m\n\u001b[1;32m----> 8\u001b[1;33m     \u001b[0mdb\u001b[0m\u001b[1;33m.\u001b[0m\u001b[0maddTask\u001b[0m\u001b[1;33m(\u001b[0m \u001b[0mtitle\u001b[0m \u001b[1;33m=\u001b[0m \u001b[0mTitle\u001b[0m\u001b[1;33m,\u001b[0m \u001b[0mtext\u001b[0m \u001b[1;33m=\u001b[0m \u001b[0mText\u001b[0m\u001b[1;33m,\u001b[0m \u001b[0mquestions\u001b[0m \u001b[1;33m=\u001b[0m \u001b[0mQuestions\u001b[0m\u001b[1;33m)\u001b[0m\u001b[1;33m\u001b[0m\u001b[1;33m\u001b[0m\u001b[0m\n\u001b[0m",
      "\u001b[1;32m~\\Desktop\\SQL_assignment\\gradedb_copy.py\u001b[0m in \u001b[0;36maddTask\u001b[1;34m(self, title, text, questions)\u001b[0m\n\u001b[0;32m    139\u001b[0m \u001b[1;33m\u001b[0m\u001b[0m\n\u001b[0;32m    140\u001b[0m   \u001b[1;32mdef\u001b[0m \u001b[0maddTask\u001b[0m\u001b[1;33m(\u001b[0m\u001b[0mself\u001b[0m\u001b[1;33m,\u001b[0m \u001b[0mtitle\u001b[0m\u001b[1;33m,\u001b[0m \u001b[0mtext\u001b[0m\u001b[1;33m,\u001b[0m \u001b[0mquestions\u001b[0m\u001b[1;33m)\u001b[0m\u001b[1;33m:\u001b[0m\u001b[1;33m\u001b[0m\u001b[1;33m\u001b[0m\u001b[0m\n\u001b[1;32m--> 141\u001b[1;33m     \u001b[1;32mwith\u001b[0m \u001b[0mself\u001b[0m\u001b[1;33m.\u001b[0m\u001b[0mnewSession\u001b[0m\u001b[1;33m(\u001b[0m\u001b[1;33m)\u001b[0m \u001b[1;32mas\u001b[0m \u001b[0mses\u001b[0m\u001b[1;33m:\u001b[0m\u001b[1;33m\u001b[0m\u001b[1;33m\u001b[0m\u001b[0m\n\u001b[0m\u001b[0;32m    142\u001b[0m       \u001b[0mqs\u001b[0m \u001b[1;33m=\u001b[0m \u001b[0mses\u001b[0m\u001b[1;33m.\u001b[0m\u001b[0mquery\u001b[0m\u001b[1;33m(\u001b[0m\u001b[0mQuestion\u001b[0m\u001b[1;33m)\u001b[0m\u001b[1;33m.\u001b[0m\u001b[0mfilter\u001b[0m\u001b[1;33m(\u001b[0m\u001b[0mQuestion\u001b[0m\u001b[1;33m.\u001b[0m\u001b[0mTitle\u001b[0m\u001b[1;33m.\u001b[0m\u001b[0min_\u001b[0m\u001b[1;33m(\u001b[0m\u001b[0mquestions\u001b[0m\u001b[1;33m)\u001b[0m\u001b[1;33m)\u001b[0m\u001b[1;33m.\u001b[0m\u001b[0mall\u001b[0m\u001b[1;33m(\u001b[0m\u001b[1;33m)\u001b[0m\u001b[1;33m\u001b[0m\u001b[1;33m\u001b[0m\u001b[0m\n\u001b[0;32m    143\u001b[0m       \u001b[0mnt\u001b[0m \u001b[1;33m=\u001b[0m \u001b[0mTask\u001b[0m\u001b[1;33m(\u001b[0m\u001b[0mTitle\u001b[0m \u001b[1;33m=\u001b[0m \u001b[0mtitle\u001b[0m\u001b[1;33m,\u001b[0m \u001b[0mText\u001b[0m \u001b[1;33m=\u001b[0m \u001b[0mtext\u001b[0m\u001b[1;33m)\u001b[0m\u001b[1;33m\u001b[0m\u001b[1;33m\u001b[0m\u001b[0m\n",
      "\u001b[1;31mAttributeError\u001b[0m: __enter__"
     ]
    }
   ],
   "source": [
    "for i in range(3):\n",
    "    Title = \"Project \" + Letter[i]\n",
    "    Text = TaskText[i]\n",
    "    Questions = list()\n",
    "    for j in range(8):\n",
    "        Questions.append(choice(Question))\n",
    "    Questions = np.unique(Questions).tolist()\n",
    "    db.addTask( title = Title, text = Text, questions = Questions)"
   ]
  },
  {
   "cell_type": "code",
   "execution_count": 20,
   "metadata": {},
   "outputs": [
    {
     "ename": "AttributeError",
     "evalue": "__enter__",
     "output_type": "error",
     "traceback": [
      "\u001b[1;31m---------------------------------------------------------------------------\u001b[0m",
      "\u001b[1;31mAttributeError\u001b[0m                            Traceback (most recent call last)",
      "\u001b[1;32m<ipython-input-20-7232c8b729b0>\u001b[0m in \u001b[0;36m<module>\u001b[1;34m\u001b[0m\n\u001b[0;32m      2\u001b[0m     \u001b[0mStudentid\u001b[0m \u001b[1;33m=\u001b[0m \u001b[0mUniID\u001b[0m\u001b[1;33m[\u001b[0m\u001b[0mi\u001b[0m\u001b[1;33m]\u001b[0m\u001b[1;33m\u001b[0m\u001b[1;33m\u001b[0m\u001b[0m\n\u001b[0;32m      3\u001b[0m     \u001b[0mTaskx\u001b[0m \u001b[1;33m=\u001b[0m \u001b[0mchoice\u001b[0m\u001b[1;33m(\u001b[0m\u001b[0mProjects\u001b[0m\u001b[1;33m)\u001b[0m\u001b[1;33m\u001b[0m\u001b[1;33m\u001b[0m\u001b[0m\n\u001b[1;32m----> 4\u001b[1;33m     \u001b[0mdb\u001b[0m\u001b[1;33m.\u001b[0m\u001b[0maddAssignment\u001b[0m\u001b[1;33m(\u001b[0m \u001b[0mstudent\u001b[0m \u001b[1;33m=\u001b[0m \u001b[0mStudentid\u001b[0m\u001b[1;33m,\u001b[0m \u001b[0mtask\u001b[0m \u001b[1;33m=\u001b[0m \u001b[0mTaskx\u001b[0m \u001b[1;33m)\u001b[0m\u001b[1;33m\u001b[0m\u001b[1;33m\u001b[0m\u001b[0m\n\u001b[0m",
      "\u001b[1;32m~\\Desktop\\SQL_assignment\\gradedb_copy.py\u001b[0m in \u001b[0;36maddAssignment\u001b[1;34m(self, student, task)\u001b[0m\n\u001b[0;32m    148\u001b[0m \u001b[1;33m\u001b[0m\u001b[0m\n\u001b[0;32m    149\u001b[0m   \u001b[1;32mdef\u001b[0m \u001b[0maddAssignment\u001b[0m\u001b[1;33m(\u001b[0m\u001b[0mself\u001b[0m\u001b[1;33m,\u001b[0m \u001b[0mstudent\u001b[0m\u001b[1;33m,\u001b[0m \u001b[0mtask\u001b[0m\u001b[1;33m)\u001b[0m\u001b[1;33m:\u001b[0m\u001b[1;33m\u001b[0m\u001b[1;33m\u001b[0m\u001b[0m\n\u001b[1;32m--> 150\u001b[1;33m     \u001b[1;32mwith\u001b[0m \u001b[0mself\u001b[0m\u001b[1;33m.\u001b[0m\u001b[0mnewSession\u001b[0m\u001b[1;33m(\u001b[0m\u001b[1;33m)\u001b[0m \u001b[1;32mas\u001b[0m \u001b[0mses\u001b[0m\u001b[1;33m:\u001b[0m\u001b[1;33m\u001b[0m\u001b[1;33m\u001b[0m\u001b[0m\n\u001b[0m\u001b[0;32m    151\u001b[0m       \u001b[0mts\u001b[0m \u001b[1;33m=\u001b[0m \u001b[0mses\u001b[0m\u001b[1;33m.\u001b[0m\u001b[0mquery\u001b[0m\u001b[1;33m(\u001b[0m\u001b[0mTask\u001b[0m\u001b[1;33m)\u001b[0m\u001b[1;33m.\u001b[0m\u001b[0mfilter\u001b[0m\u001b[1;33m(\u001b[0m\u001b[0mTask\u001b[0m\u001b[1;33m.\u001b[0m\u001b[0mTitle\u001b[0m \u001b[1;33m==\u001b[0m \u001b[0mtask\u001b[0m\u001b[1;33m)\u001b[0m\u001b[1;33m.\u001b[0m\u001b[0mone\u001b[0m\u001b[1;33m(\u001b[0m\u001b[1;33m)\u001b[0m\u001b[1;33m\u001b[0m\u001b[1;33m\u001b[0m\u001b[0m\n\u001b[0;32m    152\u001b[0m       \u001b[0massign\u001b[0m \u001b[1;33m=\u001b[0m \u001b[0mAssignment\u001b[0m\u001b[1;33m(\u001b[0m\u001b[0mUniversityID\u001b[0m \u001b[1;33m=\u001b[0m \u001b[0mstudent\u001b[0m\u001b[1;33m,\u001b[0m \u001b[0mTaskID\u001b[0m \u001b[1;33m=\u001b[0m \u001b[0mts\u001b[0m\u001b[1;33m.\u001b[0m\u001b[0mTaskID\u001b[0m\u001b[1;33m)\u001b[0m\u001b[1;33m\u001b[0m\u001b[1;33m\u001b[0m\u001b[0m\n",
      "\u001b[1;31mAttributeError\u001b[0m: __enter__"
     ]
    }
   ],
   "source": [
    "for i in range(n_stud):\n",
    "    Studentid = UniID[i]\n",
    "    Taskx = choice(Projects)\n",
    "    db.addAssignment( student = Studentid, task = Taskx )"
   ]
  },
  {
   "cell_type": "code",
   "execution_count": 16,
   "metadata": {},
   "outputs": [
    {
     "ename": "AttributeError",
     "evalue": "__enter__",
     "output_type": "error",
     "traceback": [
      "\u001b[1;31m---------------------------------------------------------------------------\u001b[0m",
      "\u001b[1;31mAttributeError\u001b[0m                            Traceback (most recent call last)",
      "\u001b[1;32m<ipython-input-16-165e20d986d5>\u001b[0m in \u001b[0;36m<module>\u001b[1;34m\u001b[0m\n\u001b[0;32m      1\u001b[0m \u001b[1;32mfor\u001b[0m \u001b[0mi\u001b[0m \u001b[1;32min\u001b[0m \u001b[0mrange\u001b[0m\u001b[1;33m(\u001b[0m\u001b[0mn_stud\u001b[0m\u001b[1;33m)\u001b[0m\u001b[1;33m:\u001b[0m\u001b[1;33m\u001b[0m\u001b[1;33m\u001b[0m\u001b[0m\n\u001b[0;32m      2\u001b[0m     \u001b[0mStudentid\u001b[0m \u001b[1;33m=\u001b[0m \u001b[0mUniID\u001b[0m\u001b[1;33m[\u001b[0m\u001b[0mi\u001b[0m\u001b[1;33m]\u001b[0m\u001b[1;33m\u001b[0m\u001b[1;33m\u001b[0m\u001b[0m\n\u001b[1;32m----> 3\u001b[1;33m     \u001b[0mdb\u001b[0m\u001b[1;33m.\u001b[0m\u001b[0mnewSubmission\u001b[0m\u001b[1;33m(\u001b[0m \u001b[0mstudent\u001b[0m \u001b[1;33m=\u001b[0m \u001b[0mStudentid\u001b[0m \u001b[1;33m)\u001b[0m\u001b[1;33m\u001b[0m\u001b[1;33m\u001b[0m\u001b[0m\n\u001b[0m",
      "\u001b[1;32m~\\Desktop\\SQL_assignment\\gradedb_copy.py\u001b[0m in \u001b[0;36mnewSubmission\u001b[1;34m(self, student)\u001b[0m\n\u001b[0;32m    157\u001b[0m \u001b[1;33m\u001b[0m\u001b[0m\n\u001b[0;32m    158\u001b[0m   \u001b[1;32mdef\u001b[0m \u001b[0mnewSubmission\u001b[0m\u001b[1;33m(\u001b[0m\u001b[0mself\u001b[0m\u001b[1;33m,\u001b[0m \u001b[0mstudent\u001b[0m\u001b[1;33m)\u001b[0m\u001b[1;33m:\u001b[0m\u001b[1;33m\u001b[0m\u001b[1;33m\u001b[0m\u001b[0m\n\u001b[1;32m--> 159\u001b[1;33m     \u001b[1;32mwith\u001b[0m \u001b[0mself\u001b[0m\u001b[1;33m.\u001b[0m\u001b[0mnewSession\u001b[0m\u001b[1;33m(\u001b[0m\u001b[1;33m)\u001b[0m \u001b[1;32mas\u001b[0m \u001b[0mses\u001b[0m\u001b[1;33m:\u001b[0m\u001b[1;33m\u001b[0m\u001b[1;33m\u001b[0m\u001b[0m\n\u001b[0m\u001b[0;32m    160\u001b[0m       \u001b[0msm\u001b[0m \u001b[1;33m=\u001b[0m \u001b[0mses\u001b[0m\u001b[1;33m.\u001b[0m\u001b[0mquery\u001b[0m\u001b[1;33m(\u001b[0m\u001b[0mAssignment\u001b[0m\u001b[1;33m)\u001b[0m\u001b[1;33m.\u001b[0m\u001b[0mfilter\u001b[0m\u001b[1;33m(\u001b[0m\u001b[0mAssignment\u001b[0m\u001b[1;33m.\u001b[0m\u001b[0mUniversityID\u001b[0m \u001b[1;33m==\u001b[0m \u001b[0mstudent\u001b[0m\u001b[1;33m)\u001b[0m\u001b[1;33m.\u001b[0m\u001b[0mone\u001b[0m\u001b[1;33m(\u001b[0m\u001b[1;33m)\u001b[0m\u001b[1;33m\u001b[0m\u001b[1;33m\u001b[0m\u001b[0m\n\u001b[0;32m    161\u001b[0m       \u001b[0msub\u001b[0m \u001b[1;33m=\u001b[0m \u001b[0mSubmission\u001b[0m\u001b[1;33m(\u001b[0m \u001b[0mAssignmentID\u001b[0m \u001b[1;33m=\u001b[0m \u001b[0msm\u001b[0m\u001b[1;33m.\u001b[0m\u001b[0mAssignmentID\u001b[0m \u001b[1;33m)\u001b[0m\u001b[1;33m\u001b[0m\u001b[1;33m\u001b[0m\u001b[0m\n",
      "\u001b[1;31mAttributeError\u001b[0m: __enter__"
     ]
    }
   ],
   "source": [
    "for i in range(n_stud):\n",
    "    Studentid = UniID[i]\n",
    "    db.newSubmission( student = Studentid )"
   ]
  },
  {
   "cell_type": "code",
   "execution_count": 25,
   "metadata": {},
   "outputs": [
    {
     "ename": "NameError",
     "evalue": "name 'Assignment' is not defined",
     "output_type": "error",
     "traceback": [
      "\u001b[1;31m---------------------------------------------------------------------------\u001b[0m",
      "\u001b[1;31mNameError\u001b[0m                                 Traceback (most recent call last)",
      "\u001b[1;32m<ipython-input-25-c7da9d98e08a>\u001b[0m in \u001b[0;36m<module>\u001b[1;34m\u001b[0m\n\u001b[0;32m      1\u001b[0m \u001b[1;32mfor\u001b[0m \u001b[0mi\u001b[0m \u001b[1;32min\u001b[0m \u001b[0mrange\u001b[0m\u001b[1;33m(\u001b[0m\u001b[0mn_stud\u001b[0m\u001b[1;33m)\u001b[0m\u001b[1;33m:\u001b[0m\u001b[1;33m\u001b[0m\u001b[1;33m\u001b[0m\u001b[0m\n\u001b[0;32m      2\u001b[0m     \u001b[0mStudentid\u001b[0m \u001b[1;33m=\u001b[0m \u001b[0mUniID\u001b[0m\u001b[1;33m[\u001b[0m\u001b[0mi\u001b[0m\u001b[1;33m]\u001b[0m\u001b[1;33m\u001b[0m\u001b[1;33m\u001b[0m\u001b[0m\n\u001b[1;32m----> 3\u001b[1;33m     \u001b[0masm\u001b[0m \u001b[1;33m=\u001b[0m \u001b[0mSession\u001b[0m\u001b[1;33m.\u001b[0m\u001b[0mquery\u001b[0m\u001b[1;33m(\u001b[0m\u001b[0mAssignment\u001b[0m\u001b[1;33m)\u001b[0m\u001b[1;33m.\u001b[0m\u001b[0mfilter\u001b[0m\u001b[1;33m(\u001b[0m\u001b[0mAssignment\u001b[0m\u001b[1;33m.\u001b[0m\u001b[0mUniversityID\u001b[0m \u001b[1;33m==\u001b[0m \u001b[0mStudentid\u001b[0m\u001b[1;33m)\u001b[0m\u001b[1;33m.\u001b[0m\u001b[0mone\u001b[0m\u001b[1;33m(\u001b[0m\u001b[1;33m)\u001b[0m\u001b[1;33m\u001b[0m\u001b[1;33m\u001b[0m\u001b[0m\n\u001b[0m\u001b[0;32m      4\u001b[0m     \u001b[0mt\u001b[0m \u001b[1;33m=\u001b[0m \u001b[0mSession\u001b[0m\u001b[1;33m.\u001b[0m\u001b[0mquery\u001b[0m\u001b[1;33m(\u001b[0m\u001b[0mTask\u001b[0m\u001b[1;33m)\u001b[0m\u001b[1;33m.\u001b[0m\u001b[0mfilter\u001b[0m\u001b[1;33m(\u001b[0m\u001b[0mTask\u001b[0m\u001b[1;33m.\u001b[0m\u001b[0mTaskID\u001b[0m \u001b[1;33m==\u001b[0m \u001b[0masm\u001b[0m\u001b[1;33m.\u001b[0m\u001b[0mTaskID\u001b[0m\u001b[1;33m)\u001b[0m\u001b[1;33m.\u001b[0m\u001b[0mone\u001b[0m\u001b[1;33m(\u001b[0m\u001b[1;33m)\u001b[0m\u001b[1;33m\u001b[0m\u001b[1;33m\u001b[0m\u001b[0m\n\u001b[0;32m      5\u001b[0m     \u001b[0mQs\u001b[0m \u001b[1;33m=\u001b[0m \u001b[0mt\u001b[0m\u001b[1;33m.\u001b[0m\u001b[0mQuestions\u001b[0m\u001b[1;33m\u001b[0m\u001b[1;33m\u001b[0m\u001b[0m\n",
      "\u001b[1;31mNameError\u001b[0m: name 'Assignment' is not defined"
     ]
    }
   ],
   "source": [
    "for i in range(n_stud):\n",
    "    Studentid = UniID[i]\n",
    "    asm = Session.query(Assignment).filter(Assignment.UniversityID == Studentid).one()\n",
    "    t = Session.query(Task).filter(Task.TaskID == asm.TaskID).one()\n",
    "    Qs = t.Questions\n",
    "    print(Qs)\n",
    "    for j in Qs:\n",
    "        Ans = choice(Answers)\n",
    "        db.addAnswer( student = Studentid, answer = Ans, ques = j)"
   ]
  },
  {
   "cell_type": "code",
   "execution_count": null,
   "metadata": {},
   "outputs": [],
   "source": [
    "for i in answer:\n",
    "    grade = random.randint(0,100)/10\n",
    "    db.addScore( Answer = i, Value = grade )"
   ]
  }
 ],
 "metadata": {
  "kernelspec": {
   "display_name": "Python 3",
   "language": "python",
   "name": "python3"
  },
  "language_info": {
   "codemirror_mode": {
    "name": "ipython",
    "version": 3
   },
   "file_extension": ".py",
   "mimetype": "text/x-python",
   "name": "python",
   "nbconvert_exporter": "python",
   "pygments_lexer": "ipython3",
   "version": "3.7.3"
  }
 },
 "nbformat": 4,
 "nbformat_minor": 5
}
