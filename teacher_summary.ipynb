{
 "cells": [
  {
   "cell_type": "markdown",
   "id": "151de1a6",
   "metadata": {},
   "source": [
    "# Teacher Summary"
   ]
  },
  {
   "cell_type": "raw",
   "id": "b2ca76fb",
   "metadata": {},
   "source": [
    "Notebook, grouped for each task it should report to the teacher the total numbers of: student assigned to the task, already submitted solutions, already evaluated solutions and pending for evaluation"
   ]
  }
 ],
 "metadata": {
  "kernelspec": {
   "display_name": "Python 3 (ipykernel)",
   "language": "python",
   "name": "python3"
  },
  "language_info": {
   "codemirror_mode": {
    "name": "ipython",
    "version": 3
   },
   "file_extension": ".py",
   "mimetype": "text/x-python",
   "name": "python",
   "nbconvert_exporter": "python",
   "pygments_lexer": "ipython3",
   "version": "3.9.7"
  }
 },
 "nbformat": 4,
 "nbformat_minor": 5
}
